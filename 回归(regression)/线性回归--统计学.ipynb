{
 "cells": [
  {
   "cell_type": "code",
   "execution_count": 112,
   "metadata": {},
   "outputs": [],
   "source": [
    "import statsmodels.api as sm \n",
    "import pandas as pd \n",
    "import numpy as np \n",
    "import matplotlib.pyplot as plt \n",
    "import seaborn as sns\n",
    "from statsmodels.sandbox.regression.predstd import wls_prediction_std\n",
    "import sys\n",
    "%matplotlib inline"
   ]
  },
  {
   "cell_type": "code",
   "execution_count": 113,
   "metadata": {},
   "outputs": [],
   "source": [
    "def linearModel(data):\n",
    "    \"\"\"\n",
    "    线性回归统计性质分析步骤\n",
    "    \n",
    "    参数\n",
    "    ----\n",
    "    data: DataFrame,建模数据\n",
    "    \"\"\"\n",
    "    labels = ['y']\n",
    "    features = ['x']\n",
    "    Y = data[labels]\n",
    "    # 加入常量变量\n",
    "    X = sm.add_constant(data[features])\n",
    "    # 构建模型\n",
    "    results = trainModel(X,Y)\n",
    "    # 分析模型效果\n",
    "    modelSummary(results)\n",
    "    # 由summary分析可知，常量变量并不显著，所以去掉这个常量变量\n",
    "    resultsNew = trainModel(data[features],Y)\n",
    "    # 输出新模型的分析结果\n",
    "    print(resultsNew.summary())\n",
    "    print(results.predict())\n",
    "    visualizeModel(resultsNew,data,features,labels)\n",
    "    "
   ]
  },
  {
   "cell_type": "code",
   "execution_count": 114,
   "metadata": {},
   "outputs": [],
   "source": [
    "def trainModel(X,Y):\n",
    "    \"\"\"训练模型\"\"\"\n",
    "    model = sm.OLS(Y,X)\n",
    "    results = model.fit()\n",
    "    return results"
   ]
  },
  {
   "cell_type": "code",
   "execution_count": 115,
   "metadata": {},
   "outputs": [],
   "source": [
    "def modelSummary(results):\n",
    "    \"\"\"\n",
    "    分析线性回归模型的统计性质\n",
    "    \"\"\"\n",
    "    # 整体统计分析结果\n",
    "    print(results.summary())\n",
    "    \n",
    "    # 用f test做假设检验\n",
    "    # 用f test检验x对应的系数a是否显著\n",
    "    print(\"检验假设x的系数等于0：\")\n",
    "    print(results.f_test(\"x=0\"))\n",
    "    # 用f test检验常量b是否显著\n",
    "    print(\"检测假设const的系数等于0：\")\n",
    "    print(results.f_test(\"const=0\"))\n",
    "    # 用f test检验a=1,b=0同时成立时的显著性\n",
    "    print(\"检验假设x的系数等于1，const系数等于0:\")\n",
    "    print(results.f_test([\"x=1\",\"const=0\"]))\n",
    "    "
   ]
  },
  {
   "cell_type": "code",
   "execution_count": 116,
   "metadata": {},
   "outputs": [],
   "source": [
    "def readData(path):\n",
    "    data = pd.read_csv(path)\n",
    "    return data "
   ]
  },
  {
   "cell_type": "code",
   "execution_count": 117,
   "metadata": {},
   "outputs": [],
   "source": [
    "def visualizeModel(re, data, features, labels):\n",
    "    \"\"\"\n",
    "    模型可视化\n",
    "    \"\"\"\n",
    "    # 计算预测结果的标准差，预测下界，预测上界\n",
    "    prstd, preLow, preUp = wls_prediction_std(re, alpha=0.05)\n",
    "    # 为在Matplotlib中显示中文，设置特殊字体\n",
    "    plt.rcParams['font.sans-serif']=['SimHei']\n",
    "    # 创建一个图形框\n",
    "    fig = plt.figure(figsize=(6, 6), dpi=80)\n",
    "    # 在图形框里只画一幅图\n",
    "    ax = fig.add_subplot(111)\n",
    "    # 在Matplotlib中显示中文，需要使用unicode\n",
    "    # 在Python3中，str不需要decode\n",
    "    if sys.version_info[0] == 3:\n",
    "        ax.set_title(u'%s' % \"线性回归统计分析示例\")\n",
    "    else:\n",
    "        ax.set_title(u'%s' % \"线性回归统计分析示例\".decode(\"utf-8\"))\n",
    "    ax.set_xlabel('$x$')\n",
    "    ax.set_ylabel('$y$')\n",
    "    # 画点图，用蓝色圆点表示原始数据\n",
    "    # 在Python3中，str不需要decode\n",
    "    if sys.version_info[0] == 3:\n",
    "        ax.scatter(data[features], data[labels], color='b',\n",
    "            label=u'%s: $y = x + \\epsilon$' % \"真实值\")\n",
    "    else:\n",
    "        ax.scatter(data[features], data[labels], color='b',\n",
    "            label=u'%s: $y = x + \\epsilon$' % \"真实值\".decode(\"utf-8\"))\n",
    "    # 画线图，用红色虚线表示95%置信区间\n",
    "    # 在Python3中，str不需要decode\n",
    "    if sys.version_info[0] == 3:\n",
    "        ax.plot(data[features], preUp, \"r--\", label=u'%s' % \"95%置信区间\")\n",
    "        ax.plot(data[features], re.predict(), color='r',\n",
    "            label=u'%s: $y = %.3fx$'\\\n",
    "            % (\"预测值\", re.params[features]))\n",
    "    else:\n",
    "        ax.plot(data[features], preUp, \"r--\", label=u'%s' % \"95%置信区间\".decode(\"utf-8\"))\n",
    "        ax.plot(data[features], re.predict(), color='r',\n",
    "            label=u'%s: $y = %.3fx$'\\\n",
    "            % (\"预测值\".decode(\"utf-8\"), re.params[features]))\n",
    "    ax.plot(data[features], preLow, \"r--\")\n",
    "    legend = plt.legend(shadow=True)\n",
    "    legend.get_frame().set_facecolor('#6F93AE')\n",
    "    plt.show()"
   ]
  },
  {
   "cell_type": "code",
   "execution_count": 118,
   "metadata": {},
   "outputs": [
    {
     "name": "stderr",
     "output_type": "stream",
     "text": [
      "/Users/clarence/Library/Python/3.7/lib/python/site-packages/matplotlib/backends/backend_agg.py:214: RuntimeWarning: Glyph 32447 missing from current font.\n",
      "  font.set_text(s, 0.0, flags=flags)\n",
      "/Users/clarence/Library/Python/3.7/lib/python/site-packages/matplotlib/backends/backend_agg.py:214: RuntimeWarning: Glyph 24615 missing from current font.\n",
      "  font.set_text(s, 0.0, flags=flags)\n",
      "/Users/clarence/Library/Python/3.7/lib/python/site-packages/matplotlib/backends/backend_agg.py:214: RuntimeWarning: Glyph 22238 missing from current font.\n",
      "  font.set_text(s, 0.0, flags=flags)\n",
      "/Users/clarence/Library/Python/3.7/lib/python/site-packages/matplotlib/backends/backend_agg.py:214: RuntimeWarning: Glyph 24402 missing from current font.\n",
      "  font.set_text(s, 0.0, flags=flags)\n",
      "/Users/clarence/Library/Python/3.7/lib/python/site-packages/matplotlib/backends/backend_agg.py:214: RuntimeWarning: Glyph 32479 missing from current font.\n",
      "  font.set_text(s, 0.0, flags=flags)\n",
      "/Users/clarence/Library/Python/3.7/lib/python/site-packages/matplotlib/backends/backend_agg.py:214: RuntimeWarning: Glyph 35745 missing from current font.\n",
      "  font.set_text(s, 0.0, flags=flags)\n",
      "/Users/clarence/Library/Python/3.7/lib/python/site-packages/matplotlib/backends/backend_agg.py:214: RuntimeWarning: Glyph 20998 missing from current font.\n",
      "  font.set_text(s, 0.0, flags=flags)\n",
      "/Users/clarence/Library/Python/3.7/lib/python/site-packages/matplotlib/backends/backend_agg.py:214: RuntimeWarning: Glyph 26512 missing from current font.\n",
      "  font.set_text(s, 0.0, flags=flags)\n",
      "/Users/clarence/Library/Python/3.7/lib/python/site-packages/matplotlib/backends/backend_agg.py:214: RuntimeWarning: Glyph 31034 missing from current font.\n",
      "  font.set_text(s, 0.0, flags=flags)\n",
      "/Users/clarence/Library/Python/3.7/lib/python/site-packages/matplotlib/backends/backend_agg.py:214: RuntimeWarning: Glyph 20363 missing from current font.\n",
      "  font.set_text(s, 0.0, flags=flags)\n",
      "/Users/clarence/Library/Python/3.7/lib/python/site-packages/matplotlib/backends/backend_agg.py:214: RuntimeWarning: Glyph 32622 missing from current font.\n",
      "  font.set_text(s, 0.0, flags=flags)\n",
      "/Users/clarence/Library/Python/3.7/lib/python/site-packages/matplotlib/backends/backend_agg.py:214: RuntimeWarning: Glyph 20449 missing from current font.\n",
      "  font.set_text(s, 0.0, flags=flags)\n",
      "/Users/clarence/Library/Python/3.7/lib/python/site-packages/matplotlib/backends/backend_agg.py:214: RuntimeWarning: Glyph 21306 missing from current font.\n",
      "  font.set_text(s, 0.0, flags=flags)\n",
      "/Users/clarence/Library/Python/3.7/lib/python/site-packages/matplotlib/backends/backend_agg.py:214: RuntimeWarning: Glyph 38388 missing from current font.\n",
      "  font.set_text(s, 0.0, flags=flags)\n",
      "Font 'default' does not have a glyph for '\\u9884' [U+9884], substituting with a dummy symbol.\n",
      "Font 'default' does not have a glyph for '\\u6d4b' [U+6d4b], substituting with a dummy symbol.\n",
      "Font 'default' does not have a glyph for '\\u503c' [U+503c], substituting with a dummy symbol.\n",
      "Font 'default' does not have a glyph for '\\u771f' [U+771f], substituting with a dummy symbol.\n",
      "Font 'default' does not have a glyph for '\\u5b9e' [U+5b9e], substituting with a dummy symbol.\n",
      "Font 'default' does not have a glyph for '\\u503c' [U+503c], substituting with a dummy symbol.\n"
     ]
    },
    {
     "name": "stdout",
     "output_type": "stream",
     "text": [
      "                            OLS Regression Results                            \n",
      "==============================================================================\n",
      "Dep. Variable:                      y   R-squared:                       0.962\n",
      "Model:                            OLS   Adj. R-squared:                  0.960\n",
      "Method:                 Least Squares   F-statistic:                     460.5\n",
      "Date:                Thu, 23 Jul 2020   Prob (F-statistic):           2.85e-14\n",
      "Time:                        16:04:49   Log-Likelihood:                -31.374\n",
      "No. Observations:                  20   AIC:                             66.75\n",
      "Df Residuals:                      18   BIC:                             68.74\n",
      "Df Model:                           1                                         \n",
      "Covariance Type:            nonrobust                                         \n",
      "==============================================================================\n",
      "                 coef    std err          t      P>|t|      [0.025      0.975]\n",
      "------------------------------------------------------------------------------\n",
      "const         -0.9495      0.934     -1.017      0.323      -2.912       1.013\n",
      "x              1.0330      0.048     21.458      0.000       0.932       1.134\n",
      "==============================================================================\n",
      "Omnibus:                        0.745   Durbin-Watson:                   2.345\n",
      "Prob(Omnibus):                  0.689   Jarque-Bera (JB):                0.673\n",
      "Skew:                           0.074   Prob(JB):                        0.714\n",
      "Kurtosis:                       2.113   Cond. No.                         66.3\n",
      "==============================================================================\n",
      "\n",
      "Warnings:\n",
      "[1] Standard Errors assume that the covariance matrix of the errors is correctly specified.\n",
      "检验假设x的系数等于0：\n",
      "<F test: F=array([[460.4584822]]), p=2.848465414495694e-14, df_denom=18, df_num=1>\n",
      "检测假设const的系数等于0：\n",
      "<F test: F=array([[1.03355794]]), p=0.3227956400831507, df_denom=18, df_num=1>\n",
      "检验假设x的系数等于1，const系数等于0:\n",
      "<F test: F=array([[0.99654631]]), p=0.388626797606395, df_denom=18, df_num=2>\n",
      "                                 OLS Regression Results                                \n",
      "=======================================================================================\n",
      "Dep. Variable:                      y   R-squared (uncentered):                   0.996\n",
      "Model:                            OLS   Adj. R-squared (uncentered):              0.996\n",
      "Method:                 Least Squares   F-statistic:                              4876.\n",
      "Date:                Thu, 23 Jul 2020   Prob (F-statistic):                    2.26e-24\n",
      "Time:                        16:04:49   Log-Likelihood:                         -31.933\n",
      "No. Observations:                  20   AIC:                                      65.87\n",
      "Df Residuals:                      19   BIC:                                      66.86\n",
      "Df Model:                           1                                                  \n",
      "Covariance Type:            nonrobust                                                  \n",
      "==============================================================================\n",
      "                 coef    std err          t      P>|t|      [0.025      0.975]\n",
      "------------------------------------------------------------------------------\n",
      "x              0.9862      0.014     69.825      0.000       0.957       1.016\n",
      "==============================================================================\n",
      "Omnibus:                        0.489   Durbin-Watson:                   2.218\n",
      "Prob(Omnibus):                  0.783   Jarque-Bera (JB):                0.561\n",
      "Skew:                           0.033   Prob(JB):                        0.755\n",
      "Kurtosis:                       2.182   Cond. No.                         1.00\n",
      "==============================================================================\n",
      "\n",
      "Warnings:\n",
      "[1] Standard Errors assume that the covariance matrix of the errors is correctly specified.\n",
      "[ 9.38013216  9.38013216 10.41309916 11.44606616 12.47903316 13.51200015\n",
      " 14.54496715 15.57793415 16.61090115 17.64386815 18.67683515 19.70980215\n",
      " 20.74276915 21.77573615 22.80870315 23.84167014 24.87463714 25.90760414\n",
      " 26.94057114 27.97353814]\n"
     ]
    },
    {
     "name": "stderr",
     "output_type": "stream",
     "text": [
      "/Users/clarence/Library/Python/3.7/lib/python/site-packages/matplotlib/backends/backend_agg.py:183: RuntimeWarning: Glyph 32447 missing from current font.\n",
      "  font.set_text(s, 0, flags=flags)\n",
      "/Users/clarence/Library/Python/3.7/lib/python/site-packages/matplotlib/backends/backend_agg.py:183: RuntimeWarning: Glyph 24615 missing from current font.\n",
      "  font.set_text(s, 0, flags=flags)\n",
      "/Users/clarence/Library/Python/3.7/lib/python/site-packages/matplotlib/backends/backend_agg.py:183: RuntimeWarning: Glyph 22238 missing from current font.\n",
      "  font.set_text(s, 0, flags=flags)\n",
      "/Users/clarence/Library/Python/3.7/lib/python/site-packages/matplotlib/backends/backend_agg.py:183: RuntimeWarning: Glyph 24402 missing from current font.\n",
      "  font.set_text(s, 0, flags=flags)\n",
      "/Users/clarence/Library/Python/3.7/lib/python/site-packages/matplotlib/backends/backend_agg.py:183: RuntimeWarning: Glyph 32479 missing from current font.\n",
      "  font.set_text(s, 0, flags=flags)\n",
      "/Users/clarence/Library/Python/3.7/lib/python/site-packages/matplotlib/backends/backend_agg.py:183: RuntimeWarning: Glyph 35745 missing from current font.\n",
      "  font.set_text(s, 0, flags=flags)\n",
      "/Users/clarence/Library/Python/3.7/lib/python/site-packages/matplotlib/backends/backend_agg.py:183: RuntimeWarning: Glyph 20998 missing from current font.\n",
      "  font.set_text(s, 0, flags=flags)\n",
      "/Users/clarence/Library/Python/3.7/lib/python/site-packages/matplotlib/backends/backend_agg.py:183: RuntimeWarning: Glyph 26512 missing from current font.\n",
      "  font.set_text(s, 0, flags=flags)\n",
      "/Users/clarence/Library/Python/3.7/lib/python/site-packages/matplotlib/backends/backend_agg.py:183: RuntimeWarning: Glyph 31034 missing from current font.\n",
      "  font.set_text(s, 0, flags=flags)\n",
      "/Users/clarence/Library/Python/3.7/lib/python/site-packages/matplotlib/backends/backend_agg.py:183: RuntimeWarning: Glyph 20363 missing from current font.\n",
      "  font.set_text(s, 0, flags=flags)\n",
      "Font 'default' does not have a glyph for '\\u9884' [U+9884], substituting with a dummy symbol.\n",
      "Font 'default' does not have a glyph for '\\u6d4b' [U+6d4b], substituting with a dummy symbol.\n",
      "Font 'default' does not have a glyph for '\\u503c' [U+503c], substituting with a dummy symbol.\n",
      "Font 'default' does not have a glyph for '\\u771f' [U+771f], substituting with a dummy symbol.\n",
      "Font 'default' does not have a glyph for '\\u5b9e' [U+5b9e], substituting with a dummy symbol.\n",
      "Font 'default' does not have a glyph for '\\u503c' [U+503c], substituting with a dummy symbol.\n",
      "/Users/clarence/Library/Python/3.7/lib/python/site-packages/matplotlib/backends/backend_agg.py:183: RuntimeWarning: Glyph 32622 missing from current font.\n",
      "  font.set_text(s, 0, flags=flags)\n",
      "/Users/clarence/Library/Python/3.7/lib/python/site-packages/matplotlib/backends/backend_agg.py:183: RuntimeWarning: Glyph 20449 missing from current font.\n",
      "  font.set_text(s, 0, flags=flags)\n",
      "/Users/clarence/Library/Python/3.7/lib/python/site-packages/matplotlib/backends/backend_agg.py:183: RuntimeWarning: Glyph 21306 missing from current font.\n",
      "  font.set_text(s, 0, flags=flags)\n",
      "/Users/clarence/Library/Python/3.7/lib/python/site-packages/matplotlib/backends/backend_agg.py:183: RuntimeWarning: Glyph 38388 missing from current font.\n",
      "  font.set_text(s, 0, flags=flags)\n"
     ]
    },
    {
     "data": {
      "image/png": "[encoded data removed]",
      "text/plain": [
       "<Figure size 480x480 with 1 Axes>"
      ]
     },
     "metadata": {
      "needs_background": "light"
     },
     "output_type": "display_data"
    }
   ],
   "source": [
    "if __name__ == '__main__':\n",
    "    data = readData('simple_example.csv')\n",
    "    linearModel(data)"
   ]
  },
  {
   "cell_type": "code",
   "execution_count": 119,
   "metadata": {},
   "outputs": [
    {
     "data": {
      "text/plain": [
       "<seaborn.axisgrid.FacetGrid at 0x7f8dad066410>"
      ]
     },
     "execution_count": 119,
     "metadata": {},
     "output_type": "execute_result"
    },
    {
     "data": {
      "image/png": "[encoded data removed]",
      "text/plain": [
       "<Figure size 360x360 with 1 Axes>"
      ]
     },
     "metadata": {
      "needs_background": "light"
     },
     "output_type": "display_data"
    }
   ],
   "source": [
    "data = readData('simple_example.csv')\n",
    "sns.relplot(x=\"x\", y=\"y\", data=data)\n"
   ]
  },
  {
   "cell_type": "code",
   "execution_count": null,
   "metadata": {},
   "outputs": [],
   "source": []
  }
 ],
 "metadata": {
  "kernelspec": {
   "display_name": "python3",
   "language": "python",
   "name": "python3"
  },
  "language_info": {
   "codemirror_mode": {
    "name": "ipython",
    "version": 3
   },
   "file_extension": ".py",
   "mimetype": "text/x-python",
   "name": "python",
   "nbconvert_exporter": "python",
   "pygments_lexer": "ipython3",
   "version": "3.7.7"
  }
 },
 "nbformat": 4,
 "nbformat_minor": 2
}
