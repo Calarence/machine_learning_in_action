{
 "cells": [
  {
   "cell_type": "code",
   "execution_count": 131,
   "metadata": {},
   "outputs": [],
   "source": [
    "import pandas as pd \n",
    "import numpy as np \n",
    "import statsmodels.api as sm \n",
    "import matplotlib.pyplot as plt \n",
    "%matplotlib inline"
   ]
  },
  {
   "cell_type": "code",
   "execution_count": 132,
   "metadata": {},
   "outputs": [],
   "source": [
    "def readData(path):\n",
    "    \"\"\"\n",
    "    读取数据 \n",
    "    \"\"\"\n",
    "    return pd.read_csv(path)\n"
   ]
  },
  {
   "cell_type": "code",
   "execution_count": 133,
   "metadata": {},
   "outputs": [],
   "source": [
    "def linearModel(data):\n",
    "    \"\"\"\n",
    "    线性回归统计分析步骤\n",
    "    \n",
    "    参数\n",
    "    ----\n",
    "    data: DataFrame,建模数据 \n",
    "    \"\"\"\n",
    "    labels = ['height']\n",
    "    features = ['weight']\n",
    "    X = data[labels]\n",
    "    X = sm.add_constant(X)\n",
    "    y = data[features]\n",
    "    results = trainModel(X,y)\n",
    "    modelSummary(results)\n",
    "    visualizeModel(labels,features,data,results)\n",
    "     "
   ]
  },
  {
   "cell_type": "code",
   "execution_count": 134,
   "metadata": {},
   "outputs": [],
   "source": [
    "def trainModel(X,Y):\n",
    "    \"\"\"\n",
    "    训练模型 \n",
    "    \"\"\"\n",
    "    model = sm.OLS(Y,X)\n",
    "    results = model.fit()\n",
    "    return results"
   ]
  },
  {
   "cell_type": "code",
   "execution_count": 135,
   "metadata": {},
   "outputs": [],
   "source": [
    "def modelSummary(results):\n",
    "    \"\"\"\n",
    "    分析线性回归模型的统计性质\n",
    "    \"\"\"\n",
    "    print(results.summary())\n",
    "    # 使用f test做假设检验\n",
    "    # 使用f test检验x对应的系数a是否显著\n",
    "    print(\"检验假设a==0:\")\n",
    "    print(results.f_test(\"height=0\"))\n",
    "    # 使用f test检验常量b是否显著\n",
    "    print(\"检验假设const==0:\")\n",
    "    print(results.f_test(\"const=0\"))\n",
    "    # 使用f test同时检验a=1，const=0\n",
    "    print(\"假设检验a==1,const==0\")\n",
    "    print(results.f_test(['height=1','const=0']))"
   ]
  },
  {
   "cell_type": "code",
   "execution_count": 136,
   "metadata": {},
   "outputs": [],
   "source": [
    "def visualizeModel(labels,features,data,results):\n",
    "    \"\"\"\n",
    "    模型可视化 \n",
    "    \"\"\"\n",
    "    fig,ax = plt.subplots()\n",
    "    ax.plot(data[labels],data[features],'o',label='data')\n",
    "    ax.plot(data[labels],results.fittedvalues,'r--.',label='OLS')\n",
    "    ax.legend(loc='best')\n",
    "    plt.show()"
   ]
  },
  {
   "cell_type": "code",
   "execution_count": 137,
   "metadata": {},
   "outputs": [
    {
     "name": "stdout",
     "output_type": "stream",
     "text": [
      "                            OLS Regression Results                            \n",
      "==============================================================================\n",
      "Dep. Variable:                 weight   R-squared:                       0.594\n",
      "Model:                            OLS   Adj. R-squared:                  0.592\n",
      "Method:                 Least Squares   F-statistic:                     288.3\n",
      "Date:                Sun, 26 Jul 2020   Prob (F-statistic):           2.01e-40\n",
      "Time:                        16:47:44   Log-Likelihood:                -707.79\n",
      "No. Observations:                 199   AIC:                             1420.\n",
      "Df Residuals:                     197   BIC:                             1426.\n",
      "Df Model:                           1                                         \n",
      "Covariance Type:            nonrobust                                         \n",
      "==============================================================================\n",
      "                 coef    std err          t      P>|t|      [0.025      0.975]\n",
      "------------------------------------------------------------------------------\n",
      "const       -130.7470     11.563    -11.308      0.000    -153.550    -107.944\n",
      "height         1.1492      0.068     16.978      0.000       1.016       1.283\n",
      "==============================================================================\n",
      "Omnibus:                       33.873   Durbin-Watson:                   1.844\n",
      "Prob(Omnibus):                  0.000   Jarque-Bera (JB):               77.622\n",
      "Skew:                           0.766   Prob(JB):                     1.40e-17\n",
      "Kurtosis:                       5.648   Cond. No.                     3.27e+03\n",
      "==============================================================================\n",
      "\n",
      "Warnings:\n",
      "[1] Standard Errors assume that the covariance matrix of the errors is correctly specified.\n",
      "[2] The condition number is large, 3.27e+03. This might indicate that there are\n",
      "strong multicollinearity or other numerical problems.\n",
      "检验假设a==0:\n",
      "<F test: F=array([[288.25230885]]), p=2.0085738945844147e-40, df_denom=197, df_num=1>\n",
      "检验假设const==0:\n",
      "<F test: F=array([[127.86270583]]), p=3.596008610317763e-23, df_denom=197, df_num=1>\n",
      "假设检验a==1,const==0\n",
      "<F test: F=array([[15186.02566956]]), p=1.6019541718952774e-216, df_denom=197, df_num=2>\n"
     ]
    },
    {
     "data": {
      "image/png": "[encoded data removed]",
      "text/plain": [
       "<Figure size 432x288 with 1 Axes>"
      ]
     },
     "metadata": {
      "needs_background": "light"
     },
     "output_type": "display_data"
    }
   ],
   "source": [
    "if __name__ == '__main__':\n",
    "    data = readData('./weight.csv')\n",
    "    data = data[data['height']>120]\n",
    "    linearModel(data)\n",
    "                    "
   ]
  },
  {
   "cell_type": "code",
   "execution_count": null,
   "metadata": {},
   "outputs": [],
   "source": []
  }
 ],
 "metadata": {
  "kernelspec": {
   "display_name": "python3",
   "language": "python",
   "name": "python3"
  },
  "language_info": {
   "codemirror_mode": {
    "name": "ipython",
    "version": 3
   },
   "file_extension": ".py",
   "mimetype": "text/x-python",
   "name": "python",
   "nbconvert_exporter": "python",
   "pygments_lexer": "ipython3",
   "version": "3.7.7"
  }
 },
 "nbformat": 4,
 "nbformat_minor": 2
}
