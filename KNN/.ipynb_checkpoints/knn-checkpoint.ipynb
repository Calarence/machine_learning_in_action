{
 "cells": [
  {
   "cell_type": "markdown",
   "metadata": {},
   "source": [
    "# 算法介绍"
   ]
  },
  {
   "cell_type": "markdown",
   "metadata": {},
   "source": [
    "KNN，即K-Nearest Neighbor，选取K个距离自己最近的邻居中出现频率最高的label作为自己的分类。其过程如下：<br>\n",
    "![](https://tva1.sinaimg.cn/large/e6c9d24ely1h672xemk8nj214q0ek0wi.jpg)\n",
    "![](https://tva1.sinaimg.cn/large/e6c9d24ely1h674jcvhu1j21os0a2myw.jpg)"
   ]
  },
  {
   "cell_type": "markdown",
   "metadata": {},
   "source": [
    "# 算法构建"
   ]
  },
  {
   "cell_type": "code",
   "execution_count": 84,
   "metadata": {},
   "outputs": [],
   "source": [
    "import pandas as pd \n",
    "import numpy as np\n",
    "import matplotlib \n",
    "import matplotlib.pyplot as plt\n",
    "from pyecharts.charts import *"
   ]
  },
  {
   "cell_type": "code",
   "execution_count": 5,
   "metadata": {},
   "outputs": [],
   "source": [
    "def create_data_set():\n",
    "    \"\"\"数据集\"\"\"\n",
    "    group = np.array([[1.0,1.0],[1.0,1.1],[0.0,0.0],[0,0.1]])\n",
    "    labels = ['A','A','B','B']\n",
    "    return group,labels"
   ]
  },
  {
   "cell_type": "code",
   "execution_count": 42,
   "metadata": {},
   "outputs": [],
   "source": [
    "def classify0(inX,dataset,labels,K):\n",
    "    data_size = dataset.shape[0]\n",
    "    inx_arr = np.tile(inX,(data_size,1))\n",
    "    diff = inx_arr - dataset\n",
    "    square_diff = diff ** 2 \n",
    "    square_sum = np.sum(square_diff,axis=1)\n",
    "    distance = square_sum ** 0.5\n",
    "    sorted_dist_indicies = np.argsort(distance)\n",
    "    label_count = {}\n",
    "    for i in range(K):\n",
    "        vote_label = labels[sorted_dist_indicies[i]]\n",
    "        label_count[vote_label] = label_count.get(vote_label,0)+1\n",
    "    sorted_label_count = sorted(label_count.items(), key=lambda x: x[1], reverse=True)\n",
    "    return sorted_label_count[0][0]"
   ]
  },
  {
   "cell_type": "code",
   "execution_count": 43,
   "metadata": {},
   "outputs": [
    {
     "data": {
      "text/plain": [
       "'B'"
      ]
     },
     "execution_count": 43,
     "metadata": {},
     "output_type": "execute_result"
    }
   ],
   "source": [
    "group,labels = create_data_set()\n",
    "classify0([0,0],group,labels,3)"
   ]
  },
  {
   "cell_type": "markdown",
   "metadata": {},
   "source": [
    "# 应用实战"
   ]
  },
  {
   "cell_type": "markdown",
   "metadata": {},
   "source": [
    "## 使用 k-近邻算法改进约会网站的配对效果"
   ]
  },
  {
   "cell_type": "markdown",
   "metadata": {},
   "source": [
    "![](https://tva1.sinaimg.cn/large/e6c9d24ely1h674my4e37j21pc0aqq6i.jpg)"
   ]
  },
  {
   "cell_type": "markdown",
   "metadata": {},
   "source": [
    "### 读取文件"
   ]
  },
  {
   "cell_type": "code",
   "execution_count": 77,
   "metadata": {},
   "outputs": [],
   "source": [
    "def file_to_matrix(file):\n",
    "    fo = open(file, \"r\")\n",
    "    lines = fo.readlines()\n",
    "    fo.close()\n",
    "    number_of_lines = len(lines)\n",
    "    matrix = np.zeros((number_of_lines,3))\n",
    "    labels = list()\n",
    "    index = 0\n",
    "    for line in lines:\n",
    "        line = line.strip()\n",
    "        list_from_line = line.split(\"\\t\")\n",
    "        matrix[index,:] = list_from_line[0:3]\n",
    "        labels.append(int(list_from_line[-1]))\n",
    "        index = index+1\n",
    "    return matrix,labels"
   ]
  },
  {
   "cell_type": "code",
   "execution_count": 78,
   "metadata": {},
   "outputs": [],
   "source": [
    "dating_data_mat,dating_labels = file_to_matrix('./datingTestSet2.txt')"
   ]
  },
  {
   "cell_type": "markdown",
   "metadata": {},
   "source": [
    "### 特征缩放"
   ]
  },
  {
   "cell_type": "code",
   "execution_count": 93,
   "metadata": {},
   "outputs": [
    {
     "data": {
      "text/html": [
       "\n",
       "<script>\n",
       "    require.config({\n",
       "        paths: {\n",
       "            'echarts':'https://assets.pyecharts.org/assets/echarts.min'\n",
       "        }\n",
       "    });\n",
       "</script>\n",
       "\n",
       "        <div id=\"fc4184d8889a49cbadffab31f2c0fa2b\" style=\"width:900px; height:500px;\"></div>\n",
       "\n",
       "<script>\n",
       "        require(['echarts'], function(echarts) {\n",
       "                var chart_fc4184d8889a49cbadffab31f2c0fa2b = echarts.init(\n",
       "                    document.getElementById('fc4184d8889a49cbadffab31f2c0fa2b'), 'white', {renderer: 'canvas'});\n",
       "                var option_fc4184d8889a49cbadffab31f2c0fa2b = {\n",
       "    \"animation\": true,\n",
       "    \"animationThreshold\": 2000,\n",
       "    \"animationDuration\": 1000,\n",
       "    \"animationEasing\": \"cubicOut\",\n",
       "    \"animationDelay\": 0,\n",
       "    \"animationDurationUpdate\": 300,\n",
       "    \"animationEasingUpdate\": \"cubicOut\",\n",
       "    \"animationDelayUpdate\": 0,\n",
       "    \"color\": [\n",
       "        \"#c23531\",\n",
       "        \"#2f4554\",\n",
       "        \"#61a0a8\",\n",
       "        \"#d48265\",\n",
       "        \"#749f83\",\n",
       "        \"#ca8622\",\n",
       "        \"#bda29a\",\n",
       "        \"#6e7074\",\n",
       "        \"#546570\",\n",
       "        \"#c4ccd3\",\n",
       "        \"#f05b72\",\n",
       "        \"#ef5b9c\",\n",
       "        \"#f47920\",\n",
       "        \"#905a3d\",\n",
       "        \"#fab27b\",\n",
       "        \"#2a5caa\",\n",
       "        \"#444693\",\n",
       "        \"#726930\",\n",
       "        \"#b2d235\",\n",
       "        \"#6d8346\",\n",
       "        \"#ac6767\",\n",
       "        \"#1d953f\",\n",
       "        \"#6950a1\",\n",
       "        \"#918597\"\n",
       "    ],\n",
       "    \"series\": [\n",
       "        {\n",
       "            \"type\": \"boxplot\",\n",
       "            \"data\": [\n",
       "                [\n",
       "                    0.0,\n",
       "                    13752.0,\n",
       "                    31669.0,\n",
       "                    47734.75,\n",
       "                    91273.0\n",
       "                ],\n",
       "                [\n",
       "                    0.0,\n",
       "                    2.9157505,\n",
       "                    6.5952035,\n",
       "                    10.0588275,\n",
       "                    20.919349\n",
       "                ],\n",
       "                [\n",
       "                    0.001156,\n",
       "                    0.40873349999999997,\n",
       "                    0.80942,\n",
       "                    1.273085,\n",
       "                    1.695517\n",
       "                ]\n",
       "            ],\n",
       "            \"label\": {\n",
       "                \"show\": true,\n",
       "                \"position\": \"top\",\n",
       "                \"margin\": 8\n",
       "            },\n",
       "            \"markPoint\": {\n",
       "                \"label\": {\n",
       "                    \"show\": true,\n",
       "                    \"position\": \"inside\",\n",
       "                    \"color\": \"#fff\",\n",
       "                    \"margin\": 8\n",
       "                }\n",
       "            },\n",
       "            \"markLine\": {\n",
       "                \"silent\": false,\n",
       "                \"precision\": 2,\n",
       "                \"label\": {\n",
       "                    \"show\": true,\n",
       "                    \"position\": \"top\",\n",
       "                    \"margin\": 8\n",
       "                }\n",
       "            }\n",
       "        }\n",
       "    ],\n",
       "    \"legend\": [\n",
       "        {\n",
       "            \"data\": [\n",
       "                \"\"\n",
       "            ],\n",
       "            \"selected\": {\n",
       "                \"\": true\n",
       "            }\n",
       "        }\n",
       "    ],\n",
       "    \"tooltip\": {\n",
       "        \"show\": true,\n",
       "        \"trigger\": \"item\",\n",
       "        \"triggerOn\": \"mousemove|click\",\n",
       "        \"axisPointer\": {\n",
       "            \"type\": \"line\"\n",
       "        },\n",
       "        \"showContent\": true,\n",
       "        \"alwaysShowContent\": false,\n",
       "        \"showDelay\": 0,\n",
       "        \"hideDelay\": 100,\n",
       "        \"textStyle\": {\n",
       "            \"fontSize\": 14\n",
       "        },\n",
       "        \"borderWidth\": 0,\n",
       "        \"padding\": 5\n",
       "    },\n",
       "    \"xAxis\": [\n",
       "        {\n",
       "            \"show\": true,\n",
       "            \"scale\": false,\n",
       "            \"nameLocation\": \"end\",\n",
       "            \"nameGap\": 15,\n",
       "            \"gridIndex\": 0,\n",
       "            \"inverse\": false,\n",
       "            \"offset\": 0,\n",
       "            \"splitNumber\": 5,\n",
       "            \"minInterval\": 0,\n",
       "            \"splitLine\": {\n",
       "                \"show\": false,\n",
       "                \"lineStyle\": {\n",
       "                    \"show\": true,\n",
       "                    \"width\": 1,\n",
       "                    \"opacity\": 1,\n",
       "                    \"curveness\": 0,\n",
       "                    \"type\": \"solid\"\n",
       "                }\n",
       "            },\n",
       "            \"data\": [\n",
       "                \"\\u6bcf\\u5e74\\u83b7\\u5f97\\u7684\\u98de\\u884c\\u5e38\\u5ba2\\u91cc\\u7a0b\\u6570\",\n",
       "                \"\\u73a9\\u89c6\\u9891\\u6e38\\u620f\\u6240\\u8017\\u65f6\\u95f4\\u767e\\u5206\\u6bd4\",\n",
       "                \"\\u6bcf\\u5468\\u6d88\\u8d39\\u7684\\u51b0\\u6dc7\\u6dcb\\u516c\\u5347\\u6570\"\n",
       "            ]\n",
       "        }\n",
       "    ],\n",
       "    \"yAxis\": [\n",
       "        {\n",
       "            \"show\": true,\n",
       "            \"scale\": false,\n",
       "            \"nameLocation\": \"end\",\n",
       "            \"nameGap\": 15,\n",
       "            \"gridIndex\": 0,\n",
       "            \"inverse\": false,\n",
       "            \"offset\": 0,\n",
       "            \"splitNumber\": 5,\n",
       "            \"minInterval\": 0,\n",
       "            \"splitLine\": {\n",
       "                \"show\": false,\n",
       "                \"lineStyle\": {\n",
       "                    \"show\": true,\n",
       "                    \"width\": 1,\n",
       "                    \"opacity\": 1,\n",
       "                    \"curveness\": 0,\n",
       "                    \"type\": \"solid\"\n",
       "                }\n",
       "            }\n",
       "        }\n",
       "    ]\n",
       "};\n",
       "                chart_fc4184d8889a49cbadffab31f2c0fa2b.setOption(option_fc4184d8889a49cbadffab31f2c0fa2b);\n",
       "        });\n",
       "    </script>\n"
      ],
      "text/plain": [
       "<pyecharts.render.display.HTML at 0x7f900c51d090>"
      ]
     },
     "execution_count": 93,
     "metadata": {},
     "output_type": "execute_result"
    }
   ],
   "source": [
    "x_data = ['每年获得的飞行常客里程数', '玩视频游戏所耗时间百分比', '每周消费的冰淇淋公升数']\n",
    "y_data = [dating_data_mat[:,0],dating_data_mat[:,1],dating_data_mat[:,2]]\n",
    "Box = Boxplot()\n",
    "Box.add_xaxis(x_data)\n",
    "Box.add_yaxis(\"\", Box.prepare_data(y_data))\n",
    "Box.render_notebook()"
   ]
  },
  {
   "cell_type": "markdown",
   "metadata": {},
   "source": [
    "各个特征间的数值差距较大，需要进行特征缩放"
   ]
  },
  {
   "cell_type": "code",
   "execution_count": 104,
   "metadata": {},
   "outputs": [],
   "source": [
    "def auto_norm(dataSet):\n",
    "    # 每个特征的最小值和最大值\n",
    "    min_values = dataSet.min(0)\n",
    "    max_values = dataSet.max(0)\n",
    "    ranges = max_values - min_values\n",
    "    norm_data_set = np.zeros(dating_data_mat.shape)\n",
    "    m = dataSet.shape[0]\n",
    "    norm_data_set = dataSet - np.tile(min_values,(m,1))\n",
    "    norm_data_set = norm_data_set / np.tile(ranges,(m,1))\n",
    "    return norm_data_set,ranges,min_values"
   ]
  },
  {
   "cell_type": "markdown",
   "metadata": {},
   "source": [
    "### 算法测试"
   ]
  },
  {
   "cell_type": "code",
   "execution_count": 125,
   "metadata": {},
   "outputs": [],
   "source": [
    "def dating_class_test():\n",
    "    ho_ration = 0.1\n",
    "    dating_data_mat,dating_labels = file_to_matrix('./datingTestSet2.txt')\n",
    "    norm_dataset,ranges,min_values = auto_norm(dating_data_mat)\n",
    "    m = norm_dataset.shape[0]\n",
    "    number_of_tests = int(m*ho_ration)\n",
    "    error_count = 0\n",
    "    for i in range(number_of_tests):\n",
    "        classify_result = classify0(norm_dataset[i,:],norm_dataset[number_of_tests:m,:],\n",
    "                                    dating_labels[number_of_tests:m],3)\n",
    "        print(\"the classify result is {}, the true result is {}\".format(classify_result,dating_labels[i]))\n",
    "        if classify_result != dating_labels[i]:\n",
    "            error_count+=1\n",
    "    print(\"the total error rate is:{}\".format(error_count/number_of_tests))"
   ]
  },
  {
   "cell_type": "code",
   "execution_count": 127,
   "metadata": {},
   "outputs": [
    {
     "name": "stdout",
     "output_type": "stream",
     "text": [
      "the classify result is 3, the true result is 3\n",
      "the classify result is 2, the true result is 2\n",
      "the classify result is 1, the true result is 1\n",
      "the classify result is 1, the true result is 1\n",
      "the classify result is 1, the true result is 1\n",
      "the classify result is 1, the true result is 1\n",
      "the classify result is 3, the true result is 3\n",
      "the classify result is 3, the true result is 3\n",
      "the classify result is 1, the true result is 1\n",
      "the classify result is 3, the true result is 3\n",
      "the classify result is 1, the true result is 1\n",
      "the classify result is 1, the true result is 1\n",
      "the classify result is 2, the true result is 2\n",
      "the classify result is 1, the true result is 1\n",
      "the classify result is 1, the true result is 1\n",
      "the classify result is 1, the true result is 1\n",
      "the classify result is 1, the true result is 1\n",
      "the classify result is 1, the true result is 1\n",
      "the classify result is 2, the true result is 2\n",
      "the classify result is 3, the true result is 3\n",
      "the classify result is 2, the true result is 2\n",
      "the classify result is 1, the true result is 1\n",
      "the classify result is 3, the true result is 2\n",
      "the classify result is 3, the true result is 3\n",
      "the classify result is 2, the true result is 2\n",
      "the classify result is 3, the true result is 3\n",
      "the classify result is 2, the true result is 2\n",
      "the classify result is 3, the true result is 3\n",
      "the classify result is 2, the true result is 2\n",
      "the classify result is 1, the true result is 1\n",
      "the classify result is 3, the true result is 3\n",
      "the classify result is 1, the true result is 1\n",
      "the classify result is 3, the true result is 3\n",
      "the classify result is 1, the true result is 1\n",
      "the classify result is 2, the true result is 2\n",
      "the classify result is 1, the true result is 1\n",
      "the classify result is 1, the true result is 1\n",
      "the classify result is 2, the true result is 2\n",
      "the classify result is 3, the true result is 3\n",
      "the classify result is 3, the true result is 3\n",
      "the classify result is 1, the true result is 1\n",
      "the classify result is 2, the true result is 2\n",
      "the classify result is 3, the true result is 3\n",
      "the classify result is 3, the true result is 3\n",
      "the classify result is 3, the true result is 3\n",
      "the classify result is 1, the true result is 1\n",
      "the classify result is 1, the true result is 1\n",
      "the classify result is 1, the true result is 1\n",
      "the classify result is 1, the true result is 1\n",
      "the classify result is 2, the true result is 2\n",
      "the classify result is 2, the true result is 2\n",
      "the classify result is 1, the true result is 1\n",
      "the classify result is 3, the true result is 3\n",
      "the classify result is 2, the true result is 2\n",
      "the classify result is 2, the true result is 2\n",
      "the classify result is 2, the true result is 2\n",
      "the classify result is 2, the true result is 2\n",
      "the classify result is 3, the true result is 3\n",
      "the classify result is 1, the true result is 1\n",
      "the classify result is 2, the true result is 2\n",
      "the classify result is 1, the true result is 1\n",
      "the classify result is 2, the true result is 2\n",
      "the classify result is 2, the true result is 2\n",
      "the classify result is 2, the true result is 2\n",
      "the classify result is 2, the true result is 2\n",
      "the classify result is 2, the true result is 2\n",
      "the classify result is 3, the true result is 3\n",
      "the classify result is 2, the true result is 2\n",
      "the classify result is 3, the true result is 3\n",
      "the classify result is 1, the true result is 1\n",
      "the classify result is 2, the true result is 2\n",
      "the classify result is 3, the true result is 3\n",
      "the classify result is 2, the true result is 2\n",
      "the classify result is 2, the true result is 2\n",
      "the classify result is 3, the true result is 1\n",
      "the classify result is 3, the true result is 3\n",
      "the classify result is 1, the true result is 1\n",
      "the classify result is 1, the true result is 1\n",
      "the classify result is 3, the true result is 3\n",
      "the classify result is 3, the true result is 3\n",
      "the classify result is 1, the true result is 1\n",
      "the classify result is 2, the true result is 2\n",
      "the classify result is 3, the true result is 3\n",
      "the classify result is 3, the true result is 1\n",
      "the classify result is 3, the true result is 3\n",
      "the classify result is 1, the true result is 1\n",
      "the classify result is 2, the true result is 2\n",
      "the classify result is 2, the true result is 2\n",
      "the classify result is 1, the true result is 1\n",
      "the classify result is 1, the true result is 1\n",
      "the classify result is 3, the true result is 3\n",
      "the classify result is 2, the true result is 3\n",
      "the classify result is 1, the true result is 1\n",
      "the classify result is 2, the true result is 2\n",
      "the classify result is 1, the true result is 1\n",
      "the classify result is 3, the true result is 3\n",
      "the classify result is 3, the true result is 3\n",
      "the classify result is 2, the true result is 2\n",
      "the classify result is 1, the true result is 1\n",
      "the classify result is 3, the true result is 1\n",
      "the total error rate is:0.05\n"
     ]
    }
   ],
   "source": [
    "dating_class_test()"
   ]
  },
  {
   "cell_type": "code",
   "execution_count": 128,
   "metadata": {},
   "outputs": [],
   "source": [
    "def classify_date_person():\n",
    "    result_list = ['not at all','in small doses','in large doses']\n",
    "    percentTats = float(input('玩视频游戏所耗时间百分比'))\n",
    "    fly_miles = float(input('每年获得的飞行常客里程数'))\n",
    "    ice_cream = float(input('每周消费的冰淇淋公升数'))\n",
    "    dating_datamat,dating_labels = file_to_matrix('./datingTestSet2.txt')\n",
    "    norm_mat,ranges,min_values = auto_norm(dating_data_mat)\n",
    "    in_arr = np.array([[percentTats,fly_miles,ice_cream]])\n",
    "    classify_result = classify0((in_arr-min_values)/ranges,norm_mat,dating_labels,3)\n",
    "    print(result_list[classify_result])"
   ]
  },
  {
   "cell_type": "code",
   "execution_count": 129,
   "metadata": {},
   "outputs": [
    {
     "name": "stdout",
     "output_type": "stream",
     "text": [
      "玩视频游戏所耗时间百分比10\n",
      "每年获得的飞行常客里程数10000\n",
      "每周消费的冰淇淋公升数0.5\n",
      "in small doses\n"
     ]
    }
   ],
   "source": [
    "classify_date_person()"
   ]
  },
  {
   "cell_type": "code",
   "execution_count": null,
   "metadata": {},
   "outputs": [],
   "source": []
  }
 ],
 "metadata": {
  "kernelspec": {
   "display_name": "python3",
   "language": "python",
   "name": "python3"
  },
  "language_info": {
   "codemirror_mode": {
    "name": "ipython",
    "version": 3
   },
   "file_extension": ".py",
   "mimetype": "text/x-python",
   "name": "python",
   "nbconvert_exporter": "python",
   "pygments_lexer": "ipython3",
   "version": "3.7.7"
  },
  "toc": {
   "base_numbering": 1,
   "nav_menu": {},
   "number_sections": true,
   "sideBar": true,
   "skip_h1_title": false,
   "title_cell": "Table of Contents",
   "title_sidebar": "Contents",
   "toc_cell": false,
   "toc_position": {},
   "toc_section_display": true,
   "toc_window_display": true
  }
 },
 "nbformat": 4,
 "nbformat_minor": 2
}
