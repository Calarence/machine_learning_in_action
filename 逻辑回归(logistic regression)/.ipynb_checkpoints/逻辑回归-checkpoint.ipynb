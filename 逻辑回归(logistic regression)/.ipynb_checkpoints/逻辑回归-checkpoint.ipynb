{
 "cells": [
  {
   "cell_type": "markdown",
   "metadata": {},
   "source": [
    "# 算法介绍利用\n",
    "Logistic回归进行分类的主要思想是:根据现有数据对<font color='red'>分类边界</font>线建立回归公式,以此进行分类<br>\n",
    "我们可以在每个特征上都乘以一个回归系数,然后把所有的结果值相加,将这个总和代入Sigmoid函数中,进而得到一个范围在0~1之间的数值。任何大于0.5的数据被分入1类,小于0.5即被归入0类。所以,Logistic回归也可以被看成是一种概率估计。<br>\n",
    "![](https://tva1.sinaimg.cn/large/e6c9d24ely1h6gcu71z2aj21bk04umxs.jpg)"
   ]
  },
  {
   "cell_type": "markdown",
   "metadata": {},
   "source": [
    "# 算法实现"
   ]
  },
  {
   "cell_type": "code",
   "execution_count": 3,
   "metadata": {},
   "outputs": [],
   "source": [
    "import numpy as np\n",
    "import warnings\n",
    "from random import choice\n",
    "import pandas as pd\n",
    "warnings.filterwarnings('ignore')\n",
    "import matplotlib.pyplot as plt\n"
   ]
  },
  {
   "cell_type": "code",
   "execution_count": 10,
   "metadata": {},
   "outputs": [],
   "source": [
    "def load_dataset(file):\n",
    "    data_matrix, labels = [], []\n",
    "    fr = open(file)\n",
    "    lines = fr.readlines()\n",
    "    for line in lines:\n",
    "        line_array = line.strip().split(\"\\t\")\n",
    "        data_matrix.append([1, float(line_array[0]), float(line_array[1])])\n",
    "        labels.append(int(line_array[2]))\n",
    "    return data_matrix, labels"
   ]
  },
  {
   "cell_type": "code",
   "execution_count": 11,
   "metadata": {},
   "outputs": [],
   "source": [
    "def sigmoid(input_data):\n",
    "    return 1 / (1 + np.exp(-input_data))"
   ]
  },
  {
   "cell_type": "code",
   "execution_count": 12,
   "metadata": {},
   "outputs": [],
   "source": [
    "def gradient_ascend(input_data, labels):\n",
    "    data_matrix = np.mat(input_data)\n",
    "    label_matrix = np.mat(labels).transpose()\n",
    "    m, n = np.shape(data_matrix)\n",
    "    alpha = 0.001\n",
    "    max_cycles = 500\n",
    "    weights = np.ones((n, 1))\n",
    "    for i in range(max_cycles):\n",
    "        h = sigmoid(data_matrix * weights)\n",
    "        error = label_matrix - h\n",
    "        weights = weights + alpha * data_matrix.transpose() * error\n",
    "    return weights"
   ]
  },
  {
   "cell_type": "code",
   "execution_count": 55,
   "metadata": {},
   "outputs": [],
   "source": [
    "data, labels = load_dataset('./testSet.txt')\n",
    "weights = gradient_ascend(data, labels)"
   ]
  },
  {
   "cell_type": "markdown",
   "metadata": {},
   "source": [
    "# 分类边界可视化"
   ]
  },
  {
   "cell_type": "code",
   "execution_count": 60,
   "metadata": {},
   "outputs": [],
   "source": [
    "def plot_best_fit(weights):\n",
    "    data_matrix, label_matrix = load_dataset('./testSet.txt')\n",
    "    data_array = np.array(data_matrix)\n",
    "    n = np.shape(data_array)[0]\n",
    "    x1_coordinate, y1_coordinate = list(), list()\n",
    "    x2_coordinate, y2_coordinate = list(), list()\n",
    "    for i in range(n):\n",
    "        if label_matrix[i] == 1:\n",
    "            x1_coordinate.append(data_array[i, 1])\n",
    "            y1_coordinate.append(data_array[i, 2])\n",
    "        else:\n",
    "            x2_coordinate.append(data_array[i, 1])\n",
    "            y2_coordinate.append(data_array[i, 2])\n",
    "    fig = plt.figure()\n",
    "    ax = fig.add_subplot(111)\n",
    "    ax.scatter(x1_coordinate, y1_coordinate, s=30, c='red', marker='s')\n",
    "    ax.scatter(x2_coordinate, y2_coordinate, s=30, c='green', marker='s')\n",
    "\n",
    "    x = np.arange(-3, 3, 0.1)\n",
    "    y = ((-weights[0] - weights[1] * x) / weights[2])\n",
    "    # if type(y).__name__ != 'numpy.ndarray':\n",
    "    # y = y.flatten().getA()[0]\n",
    "    ax.plot(x, y)"
   ]
  },
  {
   "cell_type": "code",
   "execution_count": 57,
   "metadata": {},
   "outputs": [
    {
     "data": {
      "image/png": "[encoded data removed]",
      "text/plain": [
       "<Figure size 432x288 with 1 Axes>"
      ]
     },
     "metadata": {
      "needs_background": "light"
     },
     "output_type": "display_data"
    }
   ],
   "source": [
    "plot_best_fit(weights)"
   ]
  },
  {
   "cell_type": "markdown",
   "metadata": {},
   "source": [
    "# 随机梯度下降"
   ]
  },
  {
   "cell_type": "code",
   "execution_count": 61,
   "metadata": {},
   "outputs": [],
   "source": [
    "def stochastic_gradient_ascend(data_matrix, labels):\n",
    "    m, n = np.shape(data_matrix)\n",
    "    alpha = 0.01\n",
    "    weights = np.ones((n))\n",
    "    for i in range(m):\n",
    "        h = sigmoid(sum(data_matrix[i] * weights))\n",
    "        error = labels[i] - h\n",
    "        weights = weights + alpha * error * data_matrix[i]\n",
    "    return weights"
   ]
  },
  {
   "cell_type": "code",
   "execution_count": 62,
   "metadata": {},
   "outputs": [
    {
     "data": {
      "image/png": "[encoded data removed]",
      "text/plain": [
       "<Figure size 432x288 with 1 Axes>"
      ]
     },
     "metadata": {
      "needs_background": "light"
     },
     "output_type": "display_data"
    }
   ],
   "source": [
    "data_array, labels = load_dataset('testSet.txt')\n",
    "weights = stochastic_gradient_ascend(np.array(data_array), labels)\n",
    "plot_best_fit(weights)"
   ]
  },
  {
   "cell_type": "code",
   "execution_count": 74,
   "metadata": {},
   "outputs": [],
   "source": [
    "def stochastic_gradient_ascend_1(data_matrix, labels, num_iteration=150):\n",
    "    m, n = np.shape(data_matrix)\n",
    "    weights = np.ones((n,))\n",
    "    for j in range(num_iteration):\n",
    "        data_index = list(range(m))\n",
    "        for i in range(m):\n",
    "            alpha = 4 / (1 + i + j) + 0.01\n",
    "            # random_index = int(np.random.uniform(0, len(data_index)))\n",
    "            random_index = choice(data_index)\n",
    "            h = sigmoid(sum(data_matrix[random_index] * weights))\n",
    "            error = labels[random_index] - h\n",
    "            weights = weights + alpha * error * data_matrix[random_index]\n",
    "            data_index.remove(random_index)\n",
    "    return weights"
   ]
  },
  {
   "cell_type": "code",
   "execution_count": 75,
   "metadata": {},
   "outputs": [
    {
     "data": {
      "image/png": "[encoded data removed]",
      "text/plain": [
       "<Figure size 432x288 with 1 Axes>"
      ]
     },
     "metadata": {
      "needs_background": "light"
     },
     "output_type": "display_data"
    }
   ],
   "source": [
    "data_array, labels = load_dataset('testSet.txt')\n",
    "weights = stochastic_gradient_ascend_1(np.array(data_array), labels)\n",
    "plot_best_fit(weights)"
   ]
  },
  {
   "cell_type": "markdown",
   "metadata": {},
   "source": [
    "## 项目二 "
   ]
  },
  {
   "cell_type": "code",
   "execution_count": 4,
   "metadata": {},
   "outputs": [],
   "source": [
    "data = pd.read_csv('./iris-data.csv')"
   ]
  },
  {
   "cell_type": "code",
   "execution_count": 11,
   "metadata": {},
   "outputs": [
    {
     "data": {
      "text/html": [
       "<div>\n",
       "<style scoped>\n",
       "    .dataframe tbody tr th:only-of-type {\n",
       "        vertical-align: middle;\n",
       "    }\n",
       "\n",
       "    .dataframe tbody tr th {\n",
       "        vertical-align: top;\n",
       "    }\n",
       "\n",
       "    .dataframe thead th {\n",
       "        text-align: right;\n",
       "    }\n",
       "</style>\n",
       "<table border=\"1\" class=\"dataframe\">\n",
       "  <thead>\n",
       "    <tr style=\"text-align: right;\">\n",
       "      <th></th>\n",
       "      <th>sepal_length_cm</th>\n",
       "      <th>sepal_width_cm</th>\n",
       "      <th>petal_length_cm</th>\n",
       "      <th>petal_width_cm</th>\n",
       "      <th>class</th>\n",
       "    </tr>\n",
       "  </thead>\n",
       "  <tbody>\n",
       "    <tr>\n",
       "      <th>0</th>\n",
       "      <td>5.1</td>\n",
       "      <td>3.5</td>\n",
       "      <td>1.4</td>\n",
       "      <td>0.2</td>\n",
       "      <td>Iris-setosa</td>\n",
       "    </tr>\n",
       "    <tr>\n",
       "      <th>1</th>\n",
       "      <td>4.9</td>\n",
       "      <td>3.0</td>\n",
       "      <td>1.4</td>\n",
       "      <td>0.2</td>\n",
       "      <td>Iris-setosa</td>\n",
       "    </tr>\n",
       "    <tr>\n",
       "      <th>2</th>\n",
       "      <td>4.7</td>\n",
       "      <td>3.2</td>\n",
       "      <td>1.3</td>\n",
       "      <td>0.2</td>\n",
       "      <td>Iris-setosa</td>\n",
       "    </tr>\n",
       "    <tr>\n",
       "      <th>3</th>\n",
       "      <td>4.6</td>\n",
       "      <td>3.1</td>\n",
       "      <td>1.5</td>\n",
       "      <td>0.2</td>\n",
       "      <td>Iris-setosa</td>\n",
       "    </tr>\n",
       "    <tr>\n",
       "      <th>4</th>\n",
       "      <td>5.0</td>\n",
       "      <td>3.6</td>\n",
       "      <td>1.4</td>\n",
       "      <td>0.2</td>\n",
       "      <td>Iris-setosa</td>\n",
       "    </tr>\n",
       "  </tbody>\n",
       "</table>\n",
       "</div>"
      ],
      "text/plain": [
       "   sepal_length_cm  sepal_width_cm  petal_length_cm  petal_width_cm  \\\n",
       "0              5.1             3.5              1.4             0.2   \n",
       "1              4.9             3.0              1.4             0.2   \n",
       "2              4.7             3.2              1.3             0.2   \n",
       "3              4.6             3.1              1.5             0.2   \n",
       "4              5.0             3.6              1.4             0.2   \n",
       "\n",
       "         class  \n",
       "0  Iris-setosa  \n",
       "1  Iris-setosa  \n",
       "2  Iris-setosa  \n",
       "3  Iris-setosa  \n",
       "4  Iris-setosa  "
      ]
     },
     "execution_count": 11,
     "metadata": {},
     "output_type": "execute_result"
    }
   ],
   "source": [
    "data.head()"
   ]
  },
  {
   "cell_type": "code",
   "execution_count": 5,
   "metadata": {},
   "outputs": [],
   "source": [
    "def sigmoid_function(regression_result):\n",
    "    return 1/(1+np.exp(-regression_result))"
   ]
  },
  {
   "cell_type": "code",
   "execution_count": 9,
   "metadata": {},
   "outputs": [
    {
     "data": {
      "text/plain": [
       "0.5"
      ]
     },
     "execution_count": 9,
     "metadata": {},
     "output_type": "execute_result"
    }
   ],
   "source": [
    "sigmoid_function(0)"
   ]
  },
  {
   "cell_type": "code",
   "execution_count": 12,
   "metadata": {},
   "outputs": [],
   "source": [
    "# 权重初始化\n",
    "def weight_initialization(num_of_features):\n",
    "    w = np.ones((1,num_of_features))\n",
    "    b = 0\n",
    "    return w,b"
   ]
  },
  {
   "cell_type": "code",
   "execution_count": 13,
   "metadata": {},
   "outputs": [],
   "source": [
    "# 梯度下降求参数\n",
    "def model_optimize(w,b,X,y):\n",
    "    num_features = X.shape[0]\n",
    "    predicted = sigmoid_function(np.dot(w,X.T)+b) # 预测值\n",
    "    y_T = y.T\n",
    "    cost = (-1/m)*(np.sum((y_T*np.log(predicted)+(1-y_T)*np.log(1-predicted))))\n",
    "    \n",
    "    # 求导\n",
    "    \n",
    "    dw = (1/m)*np.dot(X.T,(predicted-y_T).T)\n",
    "    db = (1/m)*np.sum(predicted-y_T)\n",
    "    grads = {'dw':dw,'db':db}\n",
    "    return grads,cost\n",
    "    "
   ]
  },
  {
   "cell_type": "code",
   "execution_count": 15,
   "metadata": {},
   "outputs": [],
   "source": [
    "def model_predict(w,b,X,y,learning_rate,iterations):\n",
    "    costs = []\n",
    "    for i in range(iterations):\n",
    "        grads,cost = model_optimize(w,b,X,y)\n",
    "        dw = grads['dw']\n",
    "        db = grads['db']\n",
    "        w = w - learning_rate*(dw.T)\n",
    "        b = b - learning_rate*db\n",
    "        \n",
    "        if i % 100 == 0:\n",
    "            costs.append(cost)\n",
    "            \n",
    "    coeff = {\"w\": w, \"b\": b}\n",
    "    gradient = {\"dw\": dw, \"db\": db}\n",
    "    return coeff, gradient, costs  "
   ]
  },
  {
   "cell_type": "code",
   "execution_count": null,
   "metadata": {},
   "outputs": [],
   "source": []
  }
 ],
 "metadata": {
  "kernelspec": {
   "display_name": "python3",
   "language": "python",
   "name": "python3"
  },
  "language_info": {
   "codemirror_mode": {
    "name": "ipython",
    "version": 3
   },
   "file_extension": ".py",
   "mimetype": "text/x-python",
   "name": "python",
   "nbconvert_exporter": "python",
   "pygments_lexer": "ipython3",
   "version": "3.7.7"
  },
  "toc": {
   "base_numbering": 1,
   "nav_menu": {},
   "number_sections": true,
   "sideBar": true,
   "skip_h1_title": false,
   "title_cell": "Table of Contents",
   "title_sidebar": "Contents",
   "toc_cell": false,
   "toc_position": {},
   "toc_section_display": true,
   "toc_window_display": true
  }
 },
 "nbformat": 4,
 "nbformat_minor": 1
}
