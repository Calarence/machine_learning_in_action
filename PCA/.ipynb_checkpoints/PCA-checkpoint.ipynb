{
 "cells": [
  {
   "cell_type": "code",
   "execution_count": 1,
   "metadata": {},
   "outputs": [],
   "source": [
    "import pandas as pd \n",
    "import numpy as np"
   ]
  },
  {
   "cell_type": "code",
   "execution_count": 37,
   "metadata": {},
   "outputs": [],
   "source": [
    "def load_dataset(filename,delimiter='\\t'):\n",
    "    fr = open(filename)\n",
    "    lines = fr.readlines()\n",
    "    data_array = list()\n",
    "    for line in lines:\n",
    "        line_array = line.strip().split(delimiter)\n",
    "        data_array.append(list(map(float,line_array)))\n",
    "    return np.mat(data_array)"
   ]
  },
  {
   "cell_type": "code",
   "execution_count": 38,
   "metadata": {},
   "outputs": [],
   "source": [
    "data_matrix = load_dataset('./testSet.txt')"
   ]
  },
  {
   "cell_type": "code",
   "execution_count": 39,
   "metadata": {},
   "outputs": [
    {
     "data": {
      "text/plain": [
       "(1000, 2)"
      ]
     },
     "execution_count": 39,
     "metadata": {},
     "output_type": "execute_result"
    }
   ],
   "source": [
    "np.shape(data_matrix)"
   ]
  },
  {
   "cell_type": "code",
   "execution_count": 53,
   "metadata": {},
   "outputs": [],
   "source": [
    "def pca(dataset,top_n_feature=999999):\n",
    "    mean_values = np.mean(dataset,axis=0)\n",
    "    mean_removed = dataset - mean_values # 可以理解为是特征缩放\n",
    "    covariance_matrix = np.cov(mean_removed,rowvar=0)\n",
    "    eigen_values,eigen_vectors = np.linalg.eig(covariance_matrix)\n",
    "    eigen_value_index = np.argsort(eigen_values)\n",
    "    eigen_value_index = eigen_value_index[:-(top_n_feature+1):-1]\n",
    "    redEigVects= eigen_vectors[:,eigen_value_index]\n",
    "    lowDDataMat = mean_removed*redEigVects\n",
    "    reconMat = (lowDDataMat* redEigVects.T)+mean_values \n",
    "    return lowDDataMat,reconMat"
   ]
  },
  {
   "cell_type": "code",
   "execution_count": 54,
   "metadata": {},
   "outputs": [],
   "source": [
    "data_matrix = load_dataset('./testSet.txt')"
   ]
  },
  {
   "cell_type": "code",
   "execution_count": 56,
   "metadata": {},
   "outputs": [],
   "source": [
    "low_data_matrix,reconstruct_matrix = pca(data_matrix,1)"
   ]
  },
  {
   "cell_type": "code",
   "execution_count": 57,
   "metadata": {},
   "outputs": [
    {
     "data": {
      "text/plain": [
       "(1000, 1)"
      ]
     },
     "execution_count": 57,
     "metadata": {},
     "output_type": "execute_result"
    }
   ],
   "source": [
    "np.shape(low_data_matrix)"
   ]
  },
  {
   "cell_type": "code",
   "execution_count": 58,
   "metadata": {},
   "outputs": [],
   "source": [
    "import matplotlib.pyplot as plt"
   ]
  },
  {
   "cell_type": "code",
   "execution_count": 60,
   "metadata": {},
   "outputs": [
    {
     "data": {
      "text/plain": [
       "<matplotlib.collections.PathCollection at 0x7fbd5a131f10>"
      ]
     },
     "execution_count": 60,
     "metadata": {},
     "output_type": "execute_result"
    },
    {
     "data": {
      "image/png": "[encoded data removed]",
      "text/plain": [
       "<Figure size 432x288 with 1 Axes>"
      ]
     },
     "metadata": {
      "needs_background": "light"
     },
     "output_type": "display_data"
    }
   ],
   "source": [
    "fig = plt.figure()\n",
    "ax = fig.add_subplot(111)\n",
    "ax.scatter(data_matrix[:,0].flatten().A[0],data_matrix[:,1].flatten().A[0],marker='o',s=90)\n",
    "ax.scatter(reconstruct_matrix[:,0].flatten().A[0],reconstruct_matrix[:,1].flatten().A[0],marker='o',s=50,c='red')"
   ]
  },
  {
   "cell_type": "markdown",
   "metadata": {},
   "source": [
    "## 利用 PCA 对半导体制造数据降维"
   ]
  },
  {
   "cell_type": "code",
   "execution_count": 69,
   "metadata": {},
   "outputs": [],
   "source": [
    "def replace_nan_with_mean():\n",
    "    data_matrix = load_dataset('./secom.data',' ')\n",
    "    number_of_features = data_matrix.shape[1]\n",
    "    for i in range(number_of_features):\n",
    "        mean_val = np.mean(data_matrix[np.nonzero(~np.isnan(data_matrix[:,i].A))[0],i])\n",
    "        data_matrix[np.nonzero(np.isnan(data_matrix[:,i].A))[0],i] = mean_val\n",
    "    return data_matrix"
   ]
  },
  {
   "cell_type": "code",
   "execution_count": 70,
   "metadata": {},
   "outputs": [],
   "source": [
    "data_matrix = replace_nan_with_mean()"
   ]
  },
  {
   "cell_type": "code",
   "execution_count": 71,
   "metadata": {},
   "outputs": [],
   "source": [
    "mean_values = np.mean(data_matrix,axis=0)\n",
    "mean_removed = data_matrix - mean_values\n",
    "covariance_matrix = np.cov(mean_removed,rowvar=0)\n",
    "eig_values,eig_vec = np.linalg.eig(np.mat(covariance_matrix))"
   ]
  },
  {
   "cell_type": "code",
   "execution_count": 72,
   "metadata": {},
   "outputs": [
    {
     "data": {
      "text/plain": [
       "array([ 5.34151979e+07,  2.17466719e+07,  8.24837662e+06,  2.07388086e+06,\n",
       "        1.31540439e+06,  4.67693557e+05,  2.90863555e+05,  2.83668601e+05,\n",
       "        2.37155830e+05,  2.08513836e+05,  1.96098849e+05,  1.86856549e+05,\n",
       "        1.52422354e+05,  1.13215032e+05,  1.08493848e+05,  1.02849533e+05,\n",
       "        1.00166164e+05,  8.33473762e+04,  8.15850591e+04,  7.76560524e+04,\n",
       "        6.66060410e+04,  6.52620058e+04,  5.96776503e+04,  5.16269933e+04,\n",
       "        5.03324580e+04,  4.54661746e+04,  4.41914029e+04,  4.15532551e+04,\n",
       "        3.55294040e+04,  3.31436743e+04,  2.67385181e+04,  1.47123429e+04,\n",
       "        1.44089194e+04,  1.09321187e+04,  1.04841308e+04,  9.48876548e+03,\n",
       "        8.34665462e+03,  7.22765535e+03,  5.34196392e+03,  4.95614671e+03,\n",
       "        4.23060022e+03,  4.10673182e+03,  3.41199406e+03,  3.24193522e+03,\n",
       "        2.74523635e+03,  2.35027999e+03,  2.16835314e+03,  1.86414157e+03,\n",
       "        1.76741826e+03,  1.70492093e+03,  1.66199683e+03,  1.53948465e+03,\n",
       "        1.33096008e+03,  1.25591691e+03,  1.15509389e+03,  1.12410108e+03,\n",
       "        1.03213798e+03,  1.00972093e+03,  9.50542179e+02,  9.09791361e+02,\n",
       "        8.32001551e+02,  8.08898242e+02,  7.37343627e+02,  6.87596830e+02,\n",
       "        5.64452104e+02,  5.51812250e+02,  5.37209115e+02,  4.93029995e+02,\n",
       "        4.13720573e+02,  3.90222119e+02,  3.37288784e+02,  3.27558605e+02,\n",
       "        3.08869553e+02,  2.46285839e+02,  2.28893093e+02,  1.96447852e+02,\n",
       "        1.75559820e+02,  1.65795169e+02,  1.56428052e+02,  1.39671194e+02,\n",
       "        1.28662864e+02,  1.15624070e+02,  1.10318239e+02,  1.08663541e+02,\n",
       "        1.00695416e+02,  9.80687852e+01,  8.34968275e+01,  7.53025397e+01,\n",
       "        6.89260158e+01,  6.67786503e+01,  6.09412873e+01,  5.30974002e+01,\n",
       "        4.71797825e+01,  4.50701108e+01,  4.41349593e+01,  4.03313416e+01,\n",
       "        3.95741636e+01,  3.74000035e+01,  3.44211326e+01,  3.30031584e+01,\n",
       "        3.03317756e+01,  2.88994580e+01,  2.76478754e+01,  2.57708695e+01,\n",
       "        2.44506430e+01,  2.31640106e+01,  2.26956957e+01,  2.16925102e+01,\n",
       "        2.10114869e+01,  2.00984697e+01,  1.86489543e+01,  1.83733216e+01,\n",
       "        1.72517802e+01,  1.60481189e+01,  1.54406997e+01,  1.48356499e+01,\n",
       "        1.44273357e+01,  1.42318192e+01,  1.35592064e+01,  1.30696836e+01,\n",
       "        1.28193512e+01,  1.22093626e+01,  1.15228376e+01,  1.12141738e+01,\n",
       "        1.02585936e+01,  9.86906139e+00,  9.58794460e+00,  9.41686288e+00,\n",
       "        9.20276340e+00,  8.63791398e+00,  8.20622561e+00,  8.01020114e+00,\n",
       "        7.53391290e+00,  7.33168361e+00,  7.09960245e+00,  7.02149364e+00,\n",
       "        6.76557324e+00,  6.34504733e+00,  6.01919292e+00,  5.81680918e+00,\n",
       "        5.44653788e+00,  5.12338463e+00,  4.79593185e+00,  4.47851795e+00,\n",
       "        4.50369987e+00,  4.27479386e+00,  3.89124198e+00,  3.56466892e+00,\n",
       "        3.32248982e+00,  2.97665360e+00,  2.61425544e+00,  2.31802829e+00,\n",
       "        2.17171124e+00,  1.99239284e+00,  1.96616566e+00,  1.88149281e+00,\n",
       "        1.79228288e+00,  1.71378363e+00,  1.68028783e+00,  1.60686268e+00,\n",
       "        1.47158244e+00,  1.40656712e+00,  1.37808906e+00,  1.27967672e+00,\n",
       "        1.22803716e+00,  1.18531109e+00,  9.38857180e-01,  9.18222054e-01,\n",
       "        8.26265393e-01,  7.96585842e-01,  7.74597255e-01,  7.14002770e-01,\n",
       "        6.79457797e-01,  6.37928310e-01,  6.24646758e-01,  5.34605353e-01,\n",
       "        4.60658687e-01,  4.24265893e-01,  4.08634622e-01,  3.70321764e-01,\n",
       "        3.67016386e-01,  3.35858033e-01,  3.29780397e-01,  2.94348753e-01,\n",
       "        2.84154176e-01,  2.72703994e-01,  2.63265991e-01,  2.45227786e-01,\n",
       "        2.25805135e-01,  2.22331919e-01,  2.13514673e-01,  1.93961935e-01,\n",
       "        1.91647269e-01,  1.83668491e-01,  1.82518017e-01,  1.65310922e-01,\n",
       "        1.57447909e-01,  1.51263974e-01,  1.39427297e-01,  1.32638882e-01,\n",
       "        1.28000027e-01,  1.13559952e-01,  1.12576237e-01,  1.08809771e-01,\n",
       "        1.07136355e-01,  8.60839655e-02,  8.50467792e-02,  8.29254355e-02,\n",
       "        7.03701660e-02,  6.44475619e-02,  6.09866327e-02,  6.05709478e-02,\n",
       "        5.93963958e-02,  5.22163549e-02,  4.92729703e-02,  4.80022983e-02,\n",
       "        4.51487439e-02,  4.30180504e-02,  4.13368324e-02,  4.03281604e-02,\n",
       "        3.91576587e-02,  3.54198873e-02,  3.31199510e-02,  3.13547234e-02,\n",
       "        3.07226509e-02,  2.98354196e-02,  2.81949091e-02,  2.49158051e-02,\n",
       "        2.36374781e-02,  2.28360210e-02,  2.19602047e-02,  2.00166957e-02,\n",
       "        1.86597535e-02,  1.80415918e-02,  1.72261012e-02,  1.60703860e-02,\n",
       "        1.49566735e-02,  1.40165444e-02,  1.31296856e-02,  1.21358005e-02,\n",
       "        1.07166503e-02,  1.01045695e-02,  9.76055340e-03,  9.16740926e-03,\n",
       "        8.78108857e-03,  8.67465278e-03,  8.30918514e-03,  8.05104488e-03,\n",
       "        7.56152126e-03,  7.31508852e-03,  7.26347037e-03,  6.65728354e-03,\n",
       "        6.50769617e-03,  6.28009879e-03,  6.19160730e-03,  5.64130272e-03,\n",
       "        5.30195373e-03,  5.07453702e-03,  4.47372286e-03,  4.32543895e-03,\n",
       "        4.22006582e-03,  3.97065729e-03,  3.75292740e-03,  3.64861290e-03,\n",
       "        3.38915810e-03,  3.27965962e-03,  3.06633825e-03,  2.99206786e-03,\n",
       "        2.83586784e-03,  2.74987243e-03,  2.31066313e-03,  2.26782347e-03,\n",
       "        1.82206662e-03,  1.74955624e-03,  1.69305161e-03,  1.66624597e-03,\n",
       "        1.55346749e-03,  1.51278404e-03,  1.47296800e-03,  1.33617458e-03,\n",
       "        1.30517592e-03,  1.24056353e-03,  1.19823961e-03,  1.14381059e-03,\n",
       "        1.13027458e-03,  1.11081803e-03,  1.08359152e-03,  1.03517496e-03,\n",
       "        1.00164593e-03,  9.50024605e-04,  8.94981182e-04,  8.74363843e-04,\n",
       "        7.98497545e-04,  7.51612221e-04,  6.63964303e-04,  6.21097652e-04,\n",
       "        6.18098606e-04,  5.72611406e-04,  5.57509232e-04,  5.47002382e-04,\n",
       "        5.27195077e-04,  5.11487997e-04,  4.87787872e-04,  4.74249071e-04,\n",
       "        4.52367688e-04,  4.24431102e-04,  4.19119025e-04,  3.72489906e-04,\n",
       "        3.38125455e-04,  3.34002143e-04,  2.97951371e-04,  2.84845900e-04,\n",
       "        2.79038287e-04,  2.77054476e-04,  2.67962796e-04,  2.54815126e-04,\n",
       "        2.29230595e-04,  1.99245436e-04,  1.90381389e-04,  1.84497913e-04,\n",
       "        1.77415682e-04,  1.40079891e-04,  1.68160613e-04,  1.46097434e-04,\n",
       "        1.46890640e-04,  1.54226003e-04,  1.58025552e-04,  1.63992030e-04,\n",
       "        1.35736724e-04,  1.22704035e-04,  1.16752515e-04,  1.14080846e-04,\n",
       "        1.04252870e-04,  9.90265093e-05,  9.66039062e-05,  9.60766569e-05,\n",
       "        9.16166329e-05,  9.07003473e-05,  8.60212633e-05,  8.32654023e-05,\n",
       "        7.70526077e-05,  7.36470020e-05,  7.24998304e-05,  6.80209909e-05,\n",
       "        6.68682705e-05,  6.14500428e-05,  5.99843178e-05,  5.49918004e-05,\n",
       "        5.24646954e-05,  5.13403845e-05,  5.02336261e-05,  4.89288502e-05,\n",
       "        4.51104474e-05,  4.29823763e-05,  4.18869715e-05,  4.14341562e-05,\n",
       "        3.94822843e-05,  3.80307292e-05,  3.57776535e-05,  3.43901591e-05,\n",
       "        2.98089202e-05,  2.72388358e-05,  2.42608885e-05,  2.30962279e-05,\n",
       "        2.27807559e-05,  2.14440814e-05,  1.96208174e-05,  1.88276186e-05,\n",
       "        1.91217363e-05,  1.66549050e-05,  1.46846459e-05,  1.43753346e-05,\n",
       "        1.39779892e-05,  1.21760519e-05,  1.20295834e-05,  1.13426750e-05,\n",
       "        1.09258905e-05,  8.93991857e-06,  9.23630200e-06,  9.64538293e-06,\n",
       "        9.72678791e-06,  1.01021805e-05,  1.02782989e-05,  8.34247952e-06,\n",
       "        7.36188585e-06,  7.20354827e-06,  2.39210233e-06,  2.57492503e-06,\n",
       "        6.69282813e-06,  6.49477813e-06,  5.91044556e-06,  6.00244889e-06,\n",
       "        5.67034892e-06,  5.31392219e-06,  5.09342484e-06,  4.65422045e-06,\n",
       "        4.45482133e-06,  3.48065951e-06,  3.65202838e-06,  3.77558985e-06,\n",
       "        4.11265576e-06,  2.78847699e-06,  2.66299626e-06,  2.06298821e-06,\n",
       "        2.00824520e-06,  1.76373602e-06,  1.58273269e-06,  1.32211395e-06,\n",
       "        1.49813697e-06,  1.44003524e-06,  1.42489429e-06,  1.10002716e-06,\n",
       "        8.49881106e-07,  9.01008863e-07,  7.62521869e-07,  6.57641102e-07,\n",
       "        5.85636641e-07,  5.33937361e-07,  4.16077215e-07,  3.33765858e-07,\n",
       "        2.95575264e-07,  2.54744632e-07,  2.20144574e-07,  1.86314517e-07,\n",
       "        1.54794343e-07,  1.77370963e-07,  1.47331685e-07,  1.39738552e-07,\n",
       "        1.04110968e-07,  1.00786519e-07,  9.38635092e-08,  9.10853310e-08,\n",
       "        8.71546325e-08,  7.48338889e-08,  6.06817432e-08,  4.57020639e-08,\n",
       "        5.24576912e-08,  5.66479200e-08,  2.89942623e-08,  2.60449417e-08,\n",
       "        2.10987990e-08,  2.17618742e-08,  1.75542295e-08,  1.34637033e-08,\n",
       "        1.27167436e-08,  1.23258200e-08,  1.04987513e-08,  9.86367990e-09,\n",
       "        8.49423627e-09,  9.33428136e-09,  7.42191864e-09,  6.46870753e-09,\n",
       "        6.84633829e-09,  5.76455931e-09,  5.01137842e-09,  3.48686439e-09,\n",
       "        2.91267182e-09,  2.77880633e-09,  1.73093443e-09,  1.42391233e-09,\n",
       "        1.16455055e-09,  1.11815922e-09,  9.24977869e-10,  6.95078696e-10,\n",
       "        6.13361757e-10,  5.27637157e-10,  1.80003670e-10,  1.97062946e-10,\n",
       "        2.61943856e-10, -3.25884701e-15,  1.67518253e-15,  3.61221843e-16,\n",
       "       -1.36749975e-17,  2.10548330e-18,  0.00000000e+00,  0.00000000e+00,\n",
       "        0.00000000e+00,  0.00000000e+00,  0.00000000e+00,  0.00000000e+00,\n",
       "        0.00000000e+00,  0.00000000e+00,  0.00000000e+00,  0.00000000e+00,\n",
       "        0.00000000e+00,  0.00000000e+00,  0.00000000e+00,  0.00000000e+00,\n",
       "        0.00000000e+00,  0.00000000e+00,  0.00000000e+00,  0.00000000e+00,\n",
       "        0.00000000e+00,  0.00000000e+00,  0.00000000e+00,  0.00000000e+00,\n",
       "        0.00000000e+00,  0.00000000e+00,  0.00000000e+00,  0.00000000e+00,\n",
       "        0.00000000e+00,  0.00000000e+00,  0.00000000e+00,  0.00000000e+00,\n",
       "        0.00000000e+00,  0.00000000e+00,  0.00000000e+00,  0.00000000e+00,\n",
       "        0.00000000e+00,  0.00000000e+00,  0.00000000e+00,  0.00000000e+00,\n",
       "        0.00000000e+00,  0.00000000e+00,  0.00000000e+00,  0.00000000e+00,\n",
       "        0.00000000e+00,  0.00000000e+00,  0.00000000e+00,  0.00000000e+00,\n",
       "        0.00000000e+00,  0.00000000e+00,  0.00000000e+00,  0.00000000e+00,\n",
       "        0.00000000e+00,  0.00000000e+00,  0.00000000e+00,  0.00000000e+00,\n",
       "        0.00000000e+00,  0.00000000e+00,  0.00000000e+00,  0.00000000e+00,\n",
       "        0.00000000e+00,  0.00000000e+00,  0.00000000e+00,  0.00000000e+00,\n",
       "        0.00000000e+00,  0.00000000e+00,  0.00000000e+00,  0.00000000e+00,\n",
       "        0.00000000e+00,  0.00000000e+00,  0.00000000e+00,  0.00000000e+00,\n",
       "        0.00000000e+00,  0.00000000e+00,  0.00000000e+00,  0.00000000e+00,\n",
       "        0.00000000e+00,  0.00000000e+00,  0.00000000e+00,  0.00000000e+00,\n",
       "        0.00000000e+00,  0.00000000e+00,  0.00000000e+00,  0.00000000e+00,\n",
       "        0.00000000e+00,  0.00000000e+00,  0.00000000e+00,  0.00000000e+00,\n",
       "        0.00000000e+00,  0.00000000e+00,  0.00000000e+00,  0.00000000e+00,\n",
       "        0.00000000e+00,  0.00000000e+00,  0.00000000e+00,  0.00000000e+00,\n",
       "        0.00000000e+00,  0.00000000e+00,  0.00000000e+00,  0.00000000e+00,\n",
       "        0.00000000e+00,  0.00000000e+00,  0.00000000e+00,  0.00000000e+00,\n",
       "        0.00000000e+00,  0.00000000e+00,  0.00000000e+00,  0.00000000e+00,\n",
       "        0.00000000e+00,  0.00000000e+00,  0.00000000e+00,  0.00000000e+00,\n",
       "        0.00000000e+00,  0.00000000e+00,  0.00000000e+00,  0.00000000e+00,\n",
       "        0.00000000e+00,  0.00000000e+00])"
      ]
     },
     "execution_count": 72,
     "metadata": {},
     "output_type": "execute_result"
    }
   ],
   "source": [
    "eig_values # 为0表示很多特征是其他特征的副本，本身没有提供额外信息，而是由其他特征表示的"
   ]
  },
  {
   "cell_type": "markdown",
   "metadata": {},
   "source": [
    "## 如何确定主成分的数量"
   ]
  },
  {
   "cell_type": "code",
   "execution_count": null,
   "metadata": {},
   "outputs": [],
   "source": [
    "根据前n个特征累积的方差百分比，比如前6个主成分就涵盖了96.8%的方差，前20个涵盖了99.3%的方差，从而进行选择"
   ]
  }
 ],
 "metadata": {
  "kernelspec": {
   "display_name": "python3",
   "language": "python",
   "name": "python3"
  },
  "language_info": {
   "codemirror_mode": {
    "name": "ipython",
    "version": 3
   },
   "file_extension": ".py",
   "mimetype": "text/x-python",
   "name": "python",
   "nbconvert_exporter": "python",
   "pygments_lexer": "ipython3",
   "version": "3.7.7"
  },
  "toc": {
   "base_numbering": 1,
   "nav_menu": {},
   "number_sections": true,
   "sideBar": true,
   "skip_h1_title": false,
   "title_cell": "Table of Contents",
   "title_sidebar": "Contents",
   "toc_cell": false,
   "toc_position": {},
   "toc_section_display": true,
   "toc_window_display": false
  }
 },
 "nbformat": 4,
 "nbformat_minor": 4
}
