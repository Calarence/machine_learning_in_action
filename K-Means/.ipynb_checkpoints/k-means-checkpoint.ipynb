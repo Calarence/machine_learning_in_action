{
 "cells": [
  {
   "cell_type": "code",
   "execution_count": 1,
   "metadata": {},
   "outputs": [],
   "source": [
    "import pandas as pd\n",
    "import numpy as np"
   ]
  },
  {
   "cell_type": "markdown",
   "metadata": {},
   "source": [
    "# 算法介绍"
   ]
  },
  {
   "cell_type": "markdown",
   "metadata": {},
   "source": [
    "![](https://tva1.sinaimg.cn/large/e6c9d24egy1h67lbj4oilj21480f6775.jpg)"
   ]
  },
  {
   "cell_type": "markdown",
   "metadata": {},
   "source": [
    "* K均值算法有一些缺点，例如受初值和离群点的影响每次的结果不稳定、结果通常不是全局最优而是局部最优解、无法很好地解决数据簇分布差别比较大的情况（比如一类是另一类样本数量的100倍)、不太适用于离散分类等。但是瑕不掩瑜，K均值聚类的优点也是很明显和突出的，主要体现在：对于大数据集，K均值聚类算法相对是可伸缩和高效的，它的计算复杂度是O(NWK团接近于线性，其中N是数据对象的数目，K是聚类的簇数，t是迭代的轮数。尽管算法经常以局部最优结束，但一般情况下达到的局部最优己经可以满足聚类的需求。\n",
    "* K均值算法的调优一般可以从以下几个角度出发。\n",
    "(1)数据归一化和离群点处理。K均值聚类本质上是一种基于欧式距离度量的数据划分方法，均值和方差大的维度将对数据的聚类结果产生决定性的影响，所以未做归一化处理和统一单位的数据是无法直接参与运算和比较的。同时，离群点或者少量的噪声数据就会对均值产生较大的影响，导致中心偏移，因此使用K均值聚类算法之前通常需要对数据做预处理。"
   ]
  },
  {
   "cell_type": "code",
   "execution_count": null,
   "metadata": {},
   "outputs": [],
   "source": []
  },
  {
   "cell_type": "markdown",
   "metadata": {},
   "source": [
    "# 算法实现"
   ]
  },
  {
   "cell_type": "code",
   "execution_count": 89,
   "metadata": {},
   "outputs": [],
   "source": [
    "def load_dataset(file):\n",
    "    data_mat = list()\n",
    "    file = open(file,'r')\n",
    "    lines = file.readlines()\n",
    "    for line in lines:\n",
    "        cur_line = line.strip().split('\\t')\n",
    "        flt_line = map(float,cur_line)\n",
    "        data_mat.append(list(flt_line))\n",
    "    return np.mat(data_mat)"
   ]
  },
  {
   "cell_type": "code",
   "execution_count": 97,
   "metadata": {},
   "outputs": [],
   "source": [
    "dataset = load_dataset('./testSet.txt')"
   ]
  },
  {
   "cell_type": "code",
   "execution_count": 102,
   "metadata": {},
   "outputs": [
    {
     "data": {
      "text/plain": [
       "matrix([[-5.21812188,  1.81850364],\n",
       "        [-4.2784063 ,  4.18669645]])"
      ]
     },
     "execution_count": 102,
     "metadata": {},
     "output_type": "execute_result"
    }
   ],
   "source": [
    "random_center(dataset,2)"
   ]
  },
  {
   "cell_type": "code",
   "execution_count": 91,
   "metadata": {},
   "outputs": [],
   "source": [
    "def distance_euclidean(vecA,vecB):\n",
    "    return np.sqrt(np.sum(np.power(vecA-vecB,2)))"
   ]
  },
  {
   "cell_type": "code",
   "execution_count": 81,
   "metadata": {},
   "outputs": [],
   "source": [
    "def random_center(dataset,k):\n",
    "    n = dataset.shape[1]\n",
    "    centroids = np.mat(np.zeros((k,n)))\n",
    "    for j in range(n):\n",
    "        min_j = min(dataset[:,j])\n",
    "        range_j = float(max(dataset[:,j]) - min_j)\n",
    "        centroids[:,j] = np.mat(min_j + range_j*np.random.rand(k,1))\n",
    "    return centroids"
   ]
  },
  {
   "cell_type": "code",
   "execution_count": 130,
   "metadata": {},
   "outputs": [],
   "source": [
    "def kMeans(dataSet,k,distMea=distance_euclidean,create_center =random_center):\n",
    "    cluster_changed = True\n",
    "    m = np.shape(dataSet)[0]\n",
    "    centroids = create_center(dataSet,k)\n",
    "    cluster_assignment = np.mat(np.zeros((m,2)))\n",
    "    while cluster_changed:\n",
    "        cluster_changed = False\n",
    "        for i in range(m):\n",
    "            min_distance,min_index = np.inf, -1\n",
    "            for j in range(k):\n",
    "                distance_JI = distMea(dataSet[i,:],centroids[j,:])\n",
    "                if distance_JI < min_distance:\n",
    "                    min_distance = distance_JI\n",
    "                    min_index = j\n",
    "            if cluster_assignment[i,0] != min_index:\n",
    "                cluster_changed = True\n",
    "            cluster_assignment[i,:] = min_index,min_distance**2\n",
    "        print(centroids)\n",
    "        for cent in range(k):\n",
    "            ptsInClust = dataSet[np.nonzero(cluster_assignment[:,0].A==cent)[0]]#get all the point in this cluster\n",
    "            centroids[cent,:] = np.mean(ptsInClust, axis=0)\n",
    "    return centroids,cluster_assignment"
   ]
  },
  {
   "cell_type": "code",
   "execution_count": 125,
   "metadata": {},
   "outputs": [],
   "source": [
    "def kMeans(dataSet, k, distMeas=distance_euclidean, createCent=random_center):\n",
    "    m = np.shape(dataSet)[0]\n",
    "    clusterAssment = np.mat(np.zeros((m,2)))#create mat to assign data points \n",
    "                                      #to a centroid, also holds SE of each point\n",
    "    centroids = createCent(dataSet, k)\n",
    "    clusterChanged = True\n",
    "    while clusterChanged:\n",
    "        clusterChanged = False\n",
    "        for i in range(m):#for each data point assign it to the closest centroid\n",
    "            minDist = np.inf; minIndex = -1\n",
    "            for j in range(k):\n",
    "                distJI = distMeas(centroids[j,:],dataSet[i,:])\n",
    "                if distJI < minDist:\n",
    "                    minDist = distJI; minIndex = j\n",
    "            if clusterAssment[i,0] != minIndex: clusterChanged = True\n",
    "            clusterAssment[i,:] = minIndex,minDist**2\n",
    "        for cent in range(k):#recalculate centroids\n",
    "            ptsInClust = dataSet[np.nonzero(clusterAssment[:,0].A==cent)[0]]#get all the point in this cluster\n",
    "            centroids[cent,:] = np.mean(ptsInClust, axis=0) #assign centroid to mean \n",
    "    return centroids, clusterAssment"
   ]
  },
  {
   "cell_type": "code",
   "execution_count": 131,
   "metadata": {},
   "outputs": [
    {
     "name": "stdout",
     "output_type": "stream",
     "text": [
      "[[ 0.91182541 -1.85961957]\n",
      " [-4.04587877 -2.82201281]\n",
      " [ 2.30896371  4.47107745]\n",
      " [ 1.55213639 -0.69601934]]\n",
      "[[ 2.28769    -3.23832819]\n",
      " [-3.54251791 -2.066412  ]\n",
      " [ 0.3326791   3.28239277]\n",
      " [ 2.6272763   0.1930647 ]]\n",
      "[[ 2.54173689 -3.11892933]\n",
      " [-3.50009376 -2.50791867]\n",
      " [-0.42864426  3.26104032]\n",
      " [ 3.274962    1.2058866 ]]\n",
      "[[ 2.54173689 -3.11892933]\n",
      " [-3.53973889 -2.89384326]\n",
      " [-1.6334182   3.03655888]\n",
      " [ 3.00278739  2.19743744]]\n",
      "[[ 2.65077367 -2.79019029]\n",
      " [-3.53973889 -2.89384326]\n",
      " [-2.46154315  2.78737555]\n",
      " [ 2.6265299   3.10868015]]\n"
     ]
    }
   ],
   "source": [
    "dataset = load_dataset('./testSet.txt')\n",
    "centroids,cluster_assignment = kMeans(dataset,4)"
   ]
  },
  {
   "cell_type": "code",
   "execution_count": 121,
   "metadata": {},
   "outputs": [
    {
     "data": {
      "text/plain": [
       "matrix([[-3.38237045, -2.9473363 ],\n",
       "        [-0.02298687,  2.99472915],\n",
       "        [ 2.8692781 , -2.54779119]])"
      ]
     },
     "execution_count": 121,
     "metadata": {},
     "output_type": "execute_result"
    }
   ],
   "source": [
    "centroids"
   ]
  },
  {
   "cell_type": "markdown",
   "metadata": {},
   "source": [
    "# sklearn实现"
   ]
  },
  {
   "cell_type": "code",
   "execution_count": 132,
   "metadata": {},
   "outputs": [],
   "source": [
    "import numpy as np\n",
    "import matplotlib.pyplot as plt\n",
    "\n",
    "from sklearn.cluster import KMeans\n",
    "from sklearn.datasets import make_blobs"
   ]
  },
  {
   "cell_type": "code",
   "execution_count": 142,
   "metadata": {},
   "outputs": [
    {
     "data": {
      "text/plain": [
       "<matplotlib.collections.PathCollection at 0x7fcc36364910>"
      ]
     },
     "execution_count": 142,
     "metadata": {},
     "output_type": "execute_result"
    },
    {
     "data": {
      "image/png": "[encoded data removed]",
      "text/plain": [
       "<Figure size 864x864 with 1 Axes>"
      ]
     },
     "metadata": {
      "needs_background": "light"
     },
     "output_type": "display_data"
    }
   ],
   "source": [
    "n_samples = 1500\n",
    "random_state = 170\n",
    "\n",
    "X, y = make_blobs(n_samples=n_samples, random_state=random_state)\n",
    "y_pred = KMeans(n_clusters=2, random_state=random_state).fit_predict(X)\n",
    "\n",
    "plt.figure(figsize=(12, 12))\n",
    "plt.subplot(221)\n",
    "plt.scatter(X[:,0],X[:,1],c=y_pred)"
   ]
  },
  {
   "cell_type": "code",
   "execution_count": null,
   "metadata": {},
   "outputs": [],
   "source": []
  }
 ],
 "metadata": {
  "kernelspec": {
   "display_name": "python3",
   "language": "python",
   "name": "python3"
  },
  "language_info": {
   "codemirror_mode": {
    "name": "ipython",
    "version": 3
   },
   "file_extension": ".py",
   "mimetype": "text/x-python",
   "name": "python",
   "nbconvert_exporter": "python",
   "pygments_lexer": "ipython3",
   "version": "3.7.7"
  },
  "toc": {
   "base_numbering": 1,
   "nav_menu": {},
   "number_sections": true,
   "sideBar": true,
   "skip_h1_title": false,
   "title_cell": "Table of Contents",
   "title_sidebar": "Contents",
   "toc_cell": false,
   "toc_position": {},
   "toc_section_display": true,
   "toc_window_display": true
  }
 },
 "nbformat": 4,
 "nbformat_minor": 2
}
