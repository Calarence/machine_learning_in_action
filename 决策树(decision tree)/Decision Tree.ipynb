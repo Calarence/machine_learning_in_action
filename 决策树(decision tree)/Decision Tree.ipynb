{
 "cells": [
  {
   "cell_type": "markdown",
   "source": [
    "# 算法介绍\n",
    "![](https://tva1.sinaimg.cn/large/e6c9d24ely1h6c1f1x87mj210p0u0dir.jpg)\n",
    "![](https://tva1.sinaimg.cn/large/e6c9d24ely1h6c1ehgu53j21pi0ckjtx.jpg)\n",
    "决策树的优点是直观易于理解，因此应该将其进行可视化\n"
   ],
   "metadata": {
    "collapsed": false
   }
  },
  {
   "cell_type": "markdown",
   "source": [
    "# 导入依赖库"
   ],
   "metadata": {
    "collapsed": false
   }
  },
  {
   "cell_type": "code",
   "execution_count": 1,
   "outputs": [],
   "source": [
    "import numpy as np\n",
    "import regTrees"
   ],
   "metadata": {
    "collapsed": false
   }
  },
  {
   "cell_type": "markdown",
   "source": [
    "# ID3\n",
    "* 第3章使用决策树来进行分类。决策树不断将数据切分成小数据集,直到所有目标变量完全相同,或者数据不能再切分为止。决策树是一种贪心算法,它要在给定时间内做出最佳选择,但并不关心能否达到全局最优\n",
    "* 本章使用的算法称为ID3,它是一个好的算法但并不完美。ID3算法无法直接处理数值型数据,尽管我们可以通过量化的方法将数值型数据转化为标称型数值,但是如果存在太多的特征划分,ID3算法仍然会面临其他问题。\n",
    "* ID3的做法是每次选取当前最佳的特征来分割数据,并按照该特征的所有可能取值来切分。也就是说,如果一个特征有4种取值,那么数据将被切成4份。一旦按某特征切分后, 该特征在之后的算法执行过程中将不会再起作用, 所以有观点认为这种切分方式过于迅速。另外一种方法是二元切分法,即每次把数据集切成两份。如果数据的某特征值等于切分所要求的值,那么这些数据就进入树的左子树,反之则进入树的右子树"
   ],
   "metadata": {
    "collapsed": false
   }
  },
  {
   "cell_type": "markdown",
   "source": [
    "## 算法实现"
   ],
   "metadata": {
    "collapsed": false
   }
  },
  {
   "cell_type": "code",
   "execution_count": 2,
   "outputs": [],
   "source": [
    "def create_dataset():\n",
    "    dataset = [\n",
    "        [1, 1, 'yes'],\n",
    "        [1, 1, 'yes'],\n",
    "        [1, 0, 'no'],\n",
    "        [0, 1, 'no'],\n",
    "        [0, 1, 'no']\n",
    "    ]\n",
    "    labels = ['no surfacing', 'flippers']\n",
    "    return dataset, labels"
   ],
   "metadata": {
    "collapsed": false
   }
  },
  {
   "cell_type": "code",
   "execution_count": 3,
   "outputs": [],
   "source": [
    "my_dataset, my_labels = create_dataset()"
   ],
   "metadata": {
    "collapsed": false
   }
  },
  {
   "cell_type": "code",
   "execution_count": 4,
   "outputs": [],
   "source": [
    "def calc_shannon_entropy(dataset):\n",
    "    \"\"\"calculate shannon entropy\"\"\"\n",
    "    number_entries = len(dataset)\n",
    "    label_count = {}\n",
    "    shannon_entropy = 0\n",
    "    for feature_vec in dataset:\n",
    "        current_label = feature_vec[-1]\n",
    "        if current_label not in label_count.keys():\n",
    "            label_count[current_label] = 0\n",
    "        label_count[current_label] += 1\n",
    "    for key in label_count.keys():\n",
    "        probability = label_count[key] / number_entries\n",
    "        shannon_entropy -= probability * np.log2(probability)\n",
    "    return shannon_entropy"
   ],
   "metadata": {
    "collapsed": false
   }
  },
  {
   "cell_type": "code",
   "execution_count": 5,
   "outputs": [
    {
     "data": {
      "text/plain": "0.9709505944546686"
     },
     "execution_count": 5,
     "metadata": {},
     "output_type": "execute_result"
    }
   ],
   "source": [
    "calc_shannon_entropy(my_dataset)"
   ],
   "metadata": {
    "collapsed": false
   }
  },
  {
   "cell_type": "code",
   "execution_count": 6,
   "outputs": [
    {
     "data": {
      "text/plain": "1.3709505944546687"
     },
     "execution_count": 6,
     "metadata": {},
     "output_type": "execute_result"
    }
   ],
   "source": [
    "# 增加分类，观察熵的变化\n",
    "my_dataset[0][-1] = 'maybe'\n",
    "calc_shannon_entropy(my_dataset)"
   ],
   "metadata": {
    "collapsed": false
   }
  },
  {
   "cell_type": "markdown",
   "source": [
    "数据中分类越多，越混乱，熵也越大\n",
    "* 如果数据中只有一个分类，那么熵为0\n",
    "* 现在的数据中有两个分类，分别是yes(2个)，no(3个)，熵为0.9709505944546686\n",
    "* 增加分类到三个，发现熵也随着增加"
   ],
   "metadata": {
    "collapsed": false
   }
  },
  {
   "cell_type": "code",
   "execution_count": 7,
   "outputs": [],
   "source": [
    "def split_dataset(dataset, axis, value):\n",
    "    \"\"\"split dataset based on feature\"\"\"\n",
    "    return_dataset = list()\n",
    "    for feature_vec in dataset:\n",
    "        if feature_vec[axis] == value:\n",
    "            reduced_feature = feature_vec[:axis]\n",
    "            reduced_feature.extend(feature_vec[axis + 1:])\n",
    "            return_dataset.append(reduced_feature)\n",
    "    return return_dataset"
   ],
   "metadata": {
    "collapsed": false
   }
  },
  {
   "cell_type": "code",
   "execution_count": 8,
   "outputs": [
    {
     "data": {
      "text/plain": "[[1, 1, 'yes'], [1, 1, 'yes'], [1, 0, 'no'], [0, 1, 'no'], [0, 1, 'no']]"
     },
     "execution_count": 8,
     "metadata": {},
     "output_type": "execute_result"
    }
   ],
   "source": [
    "my_dataset, my_labels = create_dataset()\n",
    "my_dataset"
   ],
   "metadata": {
    "collapsed": false
   }
  },
  {
   "cell_type": "code",
   "execution_count": 9,
   "outputs": [
    {
     "data": {
      "text/plain": "[[1, 'yes'], [1, 'yes'], [0, 'no']]"
     },
     "execution_count": 9,
     "metadata": {},
     "output_type": "execute_result"
    }
   ],
   "source": [
    "# 根据第一个特征值为1的进行划分\n",
    "split_dataset(my_dataset, 0, 1)"
   ],
   "metadata": {
    "collapsed": false
   }
  },
  {
   "cell_type": "code",
   "execution_count": 10,
   "outputs": [
    {
     "data": {
      "text/plain": "[[1, 'no'], [1, 'no']]"
     },
     "execution_count": 10,
     "metadata": {},
     "output_type": "execute_result"
    }
   ],
   "source": [
    "split_dataset(my_dataset, 0, 0)"
   ],
   "metadata": {
    "collapsed": false
   }
  },
  {
   "cell_type": "code",
   "execution_count": 11,
   "outputs": [],
   "source": [
    "def choose_best_feature_to_split(dataset):\n",
    "    \"\"\"choose best feature to split based on information gain\"\"\"\n",
    "    number_of_features = len(dataset[0]) - 1\n",
    "    base_entropy = calc_shannon_entropy(dataset)\n",
    "    best_information_gain = 0.0\n",
    "    best_feature_index = -1\n",
    "    for i in range(number_of_features):\n",
    "        feature_list = [entry[i] for entry in dataset]\n",
    "        unique_values = set(feature_list)\n",
    "        new_entropy = 0\n",
    "        for value in unique_values:\n",
    "            sub_dataset = split_dataset(dataset, i, value)\n",
    "            probability = len(sub_dataset) / len(dataset)\n",
    "            new_entropy = probability * calc_shannon_entropy(sub_dataset)\n",
    "        information_gain = base_entropy - new_entropy\n",
    "        if information_gain > best_information_gain:\n",
    "            best_information_gain = information_gain\n",
    "            best_feature_index = i\n",
    "    return best_feature_index\n",
    "\n"
   ],
   "metadata": {
    "collapsed": false
   }
  },
  {
   "cell_type": "code",
   "execution_count": 12,
   "outputs": [
    {
     "data": {
      "text/plain": "[[1, 1, 'yes'], [1, 1, 'yes'], [1, 0, 'no'], [0, 1, 'no'], [0, 1, 'no']]"
     },
     "execution_count": 12,
     "metadata": {},
     "output_type": "execute_result"
    }
   ],
   "source": [
    "my_dataset"
   ],
   "metadata": {
    "collapsed": false
   }
  },
  {
   "cell_type": "code",
   "execution_count": 13,
   "outputs": [
    {
     "data": {
      "text/plain": "0"
     },
     "execution_count": 13,
     "metadata": {},
     "output_type": "execute_result"
    }
   ],
   "source": [
    "choose_best_feature_to_split(my_dataset)"
   ],
   "metadata": {
    "collapsed": false
   }
  },
  {
   "cell_type": "markdown",
   "source": [
    "通过对比数据集划分前后熵的减少来找最优特征，使得熵减少最大的就是最佳特征"
   ],
   "metadata": {
    "collapsed": false
   }
  },
  {
   "cell_type": "code",
   "execution_count": 14,
   "outputs": [],
   "source": [
    "def majority_vote(class_list):\n",
    "    class_count = {}\n",
    "    for vote in class_list:\n",
    "        if vote not in class_count.keys():\n",
    "            class_count[vote] = 0\n",
    "        class_count[vote] += 1\n",
    "    sorted_class_count = sorted(class_count.items(), key=lambda x: x[1], reverse=True)\n",
    "    return sorted_class_count[0][0]"
   ],
   "metadata": {
    "collapsed": false
   }
  },
  {
   "cell_type": "code",
   "execution_count": 15,
   "outputs": [],
   "source": [
    "def create_tree(dataset, labels):\n",
    "    labels_copy = labels.copy()\n",
    "    class_list = [example[-1] for example in dataset]\n",
    "    if class_list.count(class_list[0]) == len(class_list):\n",
    "        return class_list[0]\n",
    "    if len(dataset[0]) == 1:\n",
    "        return majority_vote(class_list)\n",
    "    best_feature = choose_best_feature_to_split(dataset)\n",
    "    best_feature_label = labels_copy[best_feature]\n",
    "    my_tree = {best_feature_label: {}}\n",
    "    del (labels_copy[best_feature])\n",
    "    feature_values = [example[best_feature] for example in dataset]\n",
    "    unique_values = set(feature_values)\n",
    "    for value in unique_values:\n",
    "        sub_labels = labels_copy.copy()\n",
    "        my_tree[best_feature_label][value] = create_tree(split_dataset(dataset, best_feature, value), sub_labels)\n",
    "    return my_tree\n"
   ],
   "metadata": {
    "collapsed": false
   }
  },
  {
   "cell_type": "code",
   "execution_count": 16,
   "outputs": [
    {
     "data": {
      "text/plain": "{'no surfacing': {0: 'no', 1: {'flippers': {0: 'no', 1: 'yes'}}}}"
     },
     "execution_count": 16,
     "metadata": {},
     "output_type": "execute_result"
    }
   ],
   "source": [
    "my_dataset, my_labels = create_dataset()\n",
    "create_tree(my_dataset, my_labels)"
   ],
   "metadata": {
    "collapsed": false
   }
  },
  {
   "cell_type": "markdown",
   "source": [
    "## 算法测试\n",
    "使用决策树进行分类"
   ],
   "metadata": {
    "collapsed": false
   }
  },
  {
   "cell_type": "code",
   "execution_count": 17,
   "outputs": [],
   "source": [
    "def classify(tree, labels, test_vec):\n",
    "    first_str = list(tree.keys())[0]\n",
    "    second_dict = tree[first_str]\n",
    "    feature_index = labels.index(first_str)\n",
    "    for key in second_dict.keys():\n",
    "        if test_vec[feature_index] == key:\n",
    "            if type(second_dict[key]).__name__ == 'dict':\n",
    "                class_label = classify(second_dict[key], labels, test_vec)\n",
    "            else:\n",
    "                class_label = second_dict[key]\n",
    "    return class_label"
   ],
   "metadata": {
    "collapsed": false
   }
  },
  {
   "cell_type": "code",
   "execution_count": 18,
   "outputs": [],
   "source": [
    "my_dataset, my_labels = create_dataset()\n",
    "my_tree = create_tree(my_dataset, my_labels)"
   ],
   "metadata": {
    "collapsed": false
   }
  },
  {
   "cell_type": "code",
   "execution_count": 19,
   "outputs": [
    {
     "data": {
      "text/plain": "'no'"
     },
     "execution_count": 19,
     "metadata": {},
     "output_type": "execute_result"
    }
   ],
   "source": [
    "classify(my_tree, my_labels, [1, 0])"
   ],
   "metadata": {
    "collapsed": false
   }
  },
  {
   "cell_type": "code",
   "execution_count": 20,
   "outputs": [
    {
     "data": {
      "text/plain": "'yes'"
     },
     "execution_count": 20,
     "metadata": {},
     "output_type": "execute_result"
    }
   ],
   "source": [
    "classify(my_tree, my_labels, [1, 1])\n"
   ],
   "metadata": {
    "collapsed": false
   }
  },
  {
   "cell_type": "markdown",
   "source": [
    "## 存储树模型"
   ],
   "metadata": {
    "collapsed": false
   }
  },
  {
   "cell_type": "code",
   "execution_count": 21,
   "outputs": [],
   "source": [
    "import pickle"
   ],
   "metadata": {
    "collapsed": false
   }
  },
  {
   "cell_type": "code",
   "execution_count": 22,
   "outputs": [],
   "source": [
    "def save_tree(tree, file):\n",
    "    file = open(file, 'wb')\n",
    "    pickle.dump(tree, file)\n",
    "    file.close()"
   ],
   "metadata": {
    "collapsed": false
   }
  },
  {
   "cell_type": "code",
   "execution_count": 23,
   "outputs": [],
   "source": [
    "def grab_tree(filename):\n",
    "    file = open(filename, 'rb')\n",
    "    return pickle.load(file)"
   ],
   "metadata": {
    "collapsed": false
   }
  },
  {
   "cell_type": "code",
   "execution_count": 24,
   "outputs": [],
   "source": [
    "save_tree(my_tree, './classifierStorage.txt')"
   ],
   "metadata": {
    "collapsed": false
   }
  },
  {
   "cell_type": "code",
   "execution_count": 25,
   "outputs": [
    {
     "data": {
      "text/plain": "{'no surfacing': {0: 'no', 1: {'flippers': {0: 'no', 1: 'yes'}}}}"
     },
     "execution_count": 25,
     "metadata": {},
     "output_type": "execute_result"
    }
   ],
   "source": [
    "grab_tree('./classifierStorage.txt')"
   ],
   "metadata": {
    "collapsed": false
   }
  },
  {
   "cell_type": "markdown",
   "source": [
    "## 树模型可视化"
   ],
   "metadata": {
    "collapsed": false
   }
  },
  {
   "cell_type": "code",
   "execution_count": 26,
   "outputs": [],
   "source": [
    "import treePlotter"
   ],
   "metadata": {
    "collapsed": false
   }
  },
  {
   "cell_type": "code",
   "execution_count": 27,
   "outputs": [
    {
     "data": {
      "text/plain": "<Figure size 432x288 with 1 Axes>",
      "image/png": "[encoded data removed]"
     },
     "metadata": {},
     "output_type": "display_data"
    }
   ],
   "source": [
    "treePlotter.createPlot(my_tree)"
   ],
   "metadata": {
    "collapsed": false
   }
  },
  {
   "cell_type": "markdown",
   "source": [
    "## 使用决策树预测隐形眼睛类型"
   ],
   "metadata": {
    "collapsed": false
   }
  },
  {
   "cell_type": "code",
   "execution_count": 28,
   "outputs": [],
   "source": [
    "fr = open('./lenses.txt')\n",
    "lenses = [instance.strip().split(\"\\t\") for instance in fr.readlines()]\n",
    "lensesLabels = ['age', 'prescript', 'astigmatic', 'tearRate']\n",
    "lenses_tree = create_tree(lenses, lensesLabels)"
   ],
   "metadata": {
    "collapsed": false
   }
  },
  {
   "cell_type": "code",
   "execution_count": 29,
   "outputs": [
    {
     "data": {
      "text/plain": "<Figure size 432x288 with 1 Axes>",
      "image/png": "[encoded data removed]"
     },
     "metadata": {},
     "output_type": "display_data"
    }
   ],
   "source": [
    "treePlotter.createPlot(lenses_tree)"
   ],
   "metadata": {
    "collapsed": false
   }
  },
  {
   "cell_type": "markdown",
   "source": [
    "所示的决策树非常好地匹配了实验数据,然而这些匹配选项可能太多了。我们将这种问题称之为过度匹配(overfitting) 。为了减少过度匹配问题,我们可以裁剪决策树,去掉一些不必要的叶子节点。如果叶子节点只能增加少许信息,则可以删除该节点,将它并入到其他叶子节点中"
   ],
   "metadata": {
    "collapsed": false
   }
  },
  {
   "cell_type": "markdown",
   "source": [
    "# CART(分类回归树)"
   ],
   "metadata": {
    "collapsed": false
   }
  },
  {
   "cell_type": "code",
   "execution_count": 30,
   "outputs": [],
   "source": [
    "def load_dataset(file):\n",
    "    data_matrix = []\n",
    "    f = open(file)\n",
    "    lines = f.readlines()\n",
    "    for line in lines:\n",
    "        current_line = line.strip().split(\"\\t\")\n",
    "        float_line = list(map(float, current_line))\n",
    "        data_matrix.append(float_line)\n",
    "    return data_matrix"
   ],
   "metadata": {
    "collapsed": false
   }
  },
  {
   "cell_type": "code",
   "execution_count": 31,
   "outputs": [],
   "source": [
    "def bin_split_dataset(dataset, feature, value):\n",
    "    matrix_0 = dataset[np.nonzero(dataset[:, feature] > value)[0], :]\n",
    "    matrix_1 = dataset[np.nonzero(dataset[:, feature] <= value)[0], :]\n",
    "    return matrix_0, matrix_1"
   ],
   "metadata": {
    "collapsed": false
   }
  },
  {
   "cell_type": "code",
   "execution_count": 32,
   "outputs": [],
   "source": [
    "def regression_error(dataset):\n",
    "    \"\"\"calculate total square error\"\"\"\n",
    "    return np.var(dataset[:, -1]) * np.shape(dataset)[0]"
   ],
   "metadata": {
    "collapsed": false
   }
  },
  {
   "cell_type": "code",
   "execution_count": 33,
   "outputs": [],
   "source": [
    "def regression_leaf(dataset):\n",
    "    return np.mean(dataset[:, -1])"
   ],
   "metadata": {
    "collapsed": false
   }
  },
  {
   "cell_type": "code",
   "execution_count": 34,
   "outputs": [],
   "source": [
    "def choose_best_split(dataset, leaf_type=regression_leaf, error_type=regression_error, ops=(1, 4)):\n",
    "    if len(set(dataset[:, -1].T.tolist()[0])) == 1:\n",
    "        return None, leaf_type(dataset)\n",
    "    tolerate_e = ops[0]\n",
    "    tolerate_n = ops[1]\n",
    "    square_error = error_type(dataset)\n",
    "    best_square_error = np.inf\n",
    "    best_index, best_value = 0, 0\n",
    "    m, n = np.shape(dataset)\n",
    "    for feature_index in range(n - 1):\n",
    "        for split_value in set(dataset[:, feature_index].flatten().tolist()[0]):\n",
    "            matrix_0, matrix_1 = bin_split_dataset(dataset, feature_index, split_value)\n",
    "            other_matrix_0, other_matrix_1 = regTrees.binSplitDataSet(dataset, feature_index, split_value)\n",
    "            if matrix_0.shape[0] < tolerate_n or matrix_1.shape[0] < tolerate_n:\n",
    "                continue\n",
    "            new_square_error = error_type(matrix_0) + error_type(matrix_1)\n",
    "            if new_square_error < best_square_error:\n",
    "                best_square_error = new_square_error\n",
    "                best_index = feature_index\n",
    "                best_value = split_value\n",
    "    if square_error - best_square_error < tolerate_e:\n",
    "        return None, leaf_type(dataset)\n",
    "    matrix_0, matrix_1 = bin_split_dataset(dataset, best_index, best_value)\n",
    "    if matrix_0.shape[0] < tolerate_n or matrix_1.shape[0] < tolerate_n:\n",
    "        return None, leaf_type(dataset)\n",
    "    return best_index, best_value\n",
    "\n",
    "\n"
   ],
   "metadata": {
    "collapsed": false
   }
  },
  {
   "cell_type": "code",
   "execution_count": 35,
   "outputs": [],
   "source": [
    "def create_tree(dataset, leaf_type=regression_leaf, error_type=regression_error, ops=(1, 4)):\n",
    "    feature, value = choose_best_split(dataset, leaf_type, error_type, ops)\n",
    "    if feature is None:\n",
    "        return value\n",
    "    return_tree = {'splitIndex': feature, 'splitValue': value}\n",
    "    left_set, right_set = bin_split_dataset(dataset, feature, value)\n",
    "    return_tree['left'] = create_tree(left_set, leaf_type, error_type, ops)\n",
    "    return_tree['right'] = create_tree(right_set, leaf_type, error_type, ops)\n",
    "    return return_tree\n"
   ],
   "metadata": {
    "collapsed": false
   }
  },
  {
   "cell_type": "code",
   "execution_count": 36,
   "outputs": [],
   "source": [
    "my_dataset = np.mat(load_dataset('./ex00.txt'))"
   ],
   "metadata": {
    "collapsed": false
   }
  },
  {
   "cell_type": "code",
   "execution_count": 37,
   "outputs": [
    {
     "data": {
      "text/plain": "{'splitIndex': 0,\n 'splitValue': 0.48813,\n 'left': 1.0180967672413792,\n 'right': -0.04465028571428572}"
     },
     "execution_count": 37,
     "metadata": {},
     "output_type": "execute_result"
    }
   ],
   "source": [
    "create_tree(my_dataset)"
   ],
   "metadata": {
    "collapsed": false
   }
  },
  {
   "cell_type": "code",
   "execution_count": 38,
   "outputs": [
    {
     "data": {
      "text/plain": "{'splitIndex': 1,\n 'splitValue': 0.39435,\n 'left': {'splitIndex': 1,\n  'splitValue': 0.582002,\n  'left': {'splitIndex': 1,\n   'splitValue': 0.797583,\n   'left': 3.9871632,\n   'right': 2.9836209534883724},\n  'right': 1.980035071428571},\n 'right': {'splitIndex': 1,\n  'splitValue': 0.197834,\n  'left': 1.0289583666666666,\n  'right': -0.023838155555555553}}"
     },
     "execution_count": 38,
     "metadata": {},
     "output_type": "execute_result"
    }
   ],
   "source": [
    "my_dataset1 = np.mat(load_dataset('./ex0.txt'))\n",
    "create_tree(my_dataset1)"
   ],
   "metadata": {
    "collapsed": false
   }
  },
  {
   "cell_type": "code",
   "execution_count": 39,
   "outputs": [],
   "source": [
    "test_mat = np.mat(np.eye(4))"
   ],
   "metadata": {
    "collapsed": false
   }
  },
  {
   "cell_type": "code",
   "execution_count": 40,
   "outputs": [],
   "source": [
    "mat_0, mat_1 = bin_split_dataset(test_mat, 1, 0.5)"
   ],
   "metadata": {
    "collapsed": false
   }
  },
  {
   "cell_type": "markdown",
   "source": [
    "## 预剪枝(prepruning)\n",
    "通过控制ops参数来达到提前终止; 参数的设定非常关键，因为他会影响到节点的数量。然而,通过不断修改停止条件来得到合理结果并不是很好的办法。事实上,我们常常甚至不确定到底需要寻找什么样的结果"
   ],
   "metadata": {
    "collapsed": false
   }
  },
  {
   "cell_type": "code",
   "execution_count": 41,
   "outputs": [
    {
     "data": {
      "text/plain": "{'splitIndex': 0,\n 'splitValue': 0.48813,\n 'left': {'splitIndex': 0,\n  'splitValue': 0.620599,\n  'left': {'splitIndex': 0,\n   'splitValue': 0.625336,\n   'left': {'splitIndex': 0,\n    'splitValue': 0.625791,\n    'left': {'splitIndex': 0,\n     'splitValue': 0.643601,\n     'left': {'splitIndex': 0,\n      'splitValue': 0.651376,\n      'left': {'splitIndex': 0,\n       'splitValue': 0.6632,\n       'left': {'splitIndex': 0,\n        'splitValue': 0.683921,\n        'left': {'splitIndex': 0,\n         'splitValue': 0.819823,\n         'left': {'splitIndex': 0,\n          'splitValue': 0.837522,\n          'left': {'splitIndex': 0,\n           'splitValue': 0.846455,\n           'left': {'splitIndex': 0,\n            'splitValue': 0.919384,\n            'left': {'splitIndex': 0,\n             'splitValue': 0.976414,\n             'left': {'splitIndex': 0,\n              'splitValue': 0.985425,\n              'left': {'splitIndex': 0,\n               'splitValue': 0.989888,\n               'left': {'splitIndex': 0,\n                'splitValue': 0.993349,\n                'left': 1.035533,\n                'right': 1.077553},\n               'right': {'splitIndex': 0,\n                'splitValue': 0.988852,\n                'left': 0.744207,\n                'right': 1.069062}},\n              'right': 1.227946},\n             'right': {'splitIndex': 0,\n              'splitValue': 0.953112,\n              'left': {'splitIndex': 0,\n               'splitValue': 0.975022,\n               'left': 0.862911,\n               'right': 0.673579},\n              'right': {'splitIndex': 0,\n               'splitValue': 0.948268,\n               'left': {'splitIndex': 0,\n                'splitValue': 0.951949,\n                'left': 1.06469,\n                'right': {'splitIndex': 0,\n                 'splitValue': 0.950153,\n                 'left': 0.945255,\n                 'right': 1.022906}},\n               'right': {'splitIndex': 0,\n                'splitValue': 0.936783,\n                'left': 0.631862,\n                'right': {'splitIndex': 0,\n                 'splitValue': 0.928097,\n                 'left': {'splitIndex': 0,\n                  'splitValue': 0.930173,\n                  'left': 1.026258,\n                  'right': 1.035645},\n                 'right': 0.883225}}}}},\n            'right': {'splitIndex': 0,\n             'splitValue': 0.877241,\n             'left': {'splitIndex': 0,\n              'splitValue': 0.897094,\n              'left': {'splitIndex': 0,\n               'splitValue': 0.902532,\n               'left': {'splitIndex': 0,\n                'splitValue': 0.919074,\n                'left': 1.029889,\n                'right': 1.123413},\n               'right': {'splitIndex': 0,\n                'splitValue': 0.901056,\n                'left': 0.861601,\n                'right': {'splitIndex': 0,\n                 'splitValue': 0.900272,\n                 'left': 1.0559,\n                 'right': 0.996871}}},\n              'right': {'splitIndex': 0,\n               'splitValue': 0.89593,\n               'left': 1.240209,\n               'right': {'splitIndex': 0,\n                'splitValue': 0.884512,\n                'left': 1.077275,\n                'right': 1.117833}}},\n             'right': {'splitIndex': 0,\n              'splitValue': 0.848921,\n              'left': {'splitIndex': 0,\n               'splitValue': 0.860049,\n               'left': {'splitIndex': 0,\n                'splitValue': 0.869077,\n                'left': 0.797005,\n                'right': 1.114825},\n               'right': 0.71749},\n              'right': 1.170959}}},\n           'right': {'splitIndex': 0,\n            'splitValue': 0.845815,\n            'left': 0.72003,\n            'right': 0.952617}},\n          'right': {'splitIndex': 0,\n           'splitValue': 0.821648,\n           'left': {'splitIndex': 0,\n            'splitValue': 0.834078,\n            'left': 1.229373,\n            'right': {'splitIndex': 0,\n             'splitValue': 0.824442,\n             'left': 1.01058,\n             'right': {'splitIndex': 0,\n              'splitValue': 0.822443,\n              'left': 1.082153,\n              'right': 1.086648}}},\n           'right': {'splitIndex': 0,\n            'splitValue': 0.820802,\n            'left': 1.280895,\n            'right': 1.325907}}},\n         'right': {'splitIndex': 0,\n          'splitValue': 0.785541,\n          'left': {'splitIndex': 0,\n           'splitValue': 0.79024,\n           'left': {'splitIndex': 0,\n            'splitValue': 0.813719,\n            'left': {'splitIndex': 0,\n             'splitValue': 0.814825,\n             'left': 0.835264,\n             'right': 1.095206},\n            'right': {'splitIndex': 0,\n             'splitValue': 0.804586,\n             'left': 0.706601,\n             'right': {'splitIndex': 0,\n              'splitValue': 0.795072,\n              'left': 0.924033,\n              'right': 0.965721}}},\n           'right': {'splitIndex': 0,\n            'splitValue': 0.789625,\n            'left': 0.533214,\n            'right': 0.552614}},\n          'right': {'splitIndex': 0,\n           'splitValue': 0.712503,\n           'left': {'splitIndex': 0,\n            'splitValue': 0.72312,\n            'left': {'splitIndex': 0,\n             'splitValue': 0.768784,\n             'left': {'splitIndex': 0,\n              'splitValue': 0.773422,\n              'left': {'splitIndex': 0,\n               'splitValue': 0.782167,\n               'left': 1.165296,\n               'right': {'splitIndex': 0,\n                'splitValue': 0.774301,\n                'left': {'splitIndex': 0,\n                 'splitValue': 0.78193,\n                 'left': 0.886049,\n                 'right': 1.074488},\n                'right': 0.836763}},\n              'right': {'splitIndex': 0,\n               'splitValue': 0.772083,\n               'left': {'splitIndex': 0,\n                'splitValue': 0.773168,\n                'left': 1.125943,\n                'right': 1.140917},\n               'right': 1.299018}},\n             'right': {'splitIndex': 0,\n              'splitValue': 0.742527,\n              'left': {'splitIndex': 0,\n               'splitValue': 0.750918,\n               'left': {'splitIndex': 0,\n                'splitValue': 0.761474,\n                'left': {'splitIndex': 0,\n                 'splitValue': 0.768596,\n                 'left': 0.899705,\n                 'right': 0.760219},\n                'right': 1.058262},\n               'right': {'splitIndex': 0,\n                'splitValue': 0.750078,\n                'left': 0.748104,\n                'right': 0.906291}},\n              'right': {'splitIndex': 0,\n               'splitValue': 0.729234,\n               'left': {'splitIndex': 0,\n                'splitValue': 0.737189,\n                'left': 1.087056,\n                'right': 1.200781},\n               'right': {'splitIndex': 0,\n                'splitValue': 0.727098,\n                'left': 0.931956,\n                'right': {'splitIndex': 0,\n                 'splitValue': 0.726828,\n                 'left': 1.000567,\n                 'right': 1.017112}}}}},\n            'right': 1.307248},\n           'right': {'splitIndex': 0,\n            'splitValue': 0.703755,\n            'left': {'splitIndex': 0,\n             'splitValue': 0.712386,\n             'left': 0.93349,\n             'right': 0.564858},\n            'right': {'splitIndex': 0,\n             'splitValue': 0.696648,\n             'left': {'splitIndex': 0,\n              'splitValue': 0.697718,\n              'left': {'splitIndex': 0,\n               'splitValue': 0.697777,\n               'left': 1.101678,\n               'right': 0.827805},\n              'right': 1.212434},\n             'right': {'splitIndex': 0,\n              'splitValue': 0.691115,\n              'left': 0.845423,\n              'right': 0.834391}}}}}},\n        'right': {'splitIndex': 0,\n         'splitValue': 0.683886,\n         'left': 1.414382,\n         'right': {'splitIndex': 0,\n          'splitValue': 0.678287,\n          'left': {'splitIndex': 0,\n           'splitValue': 0.67939,\n           'left': 0.999985,\n           'right': 1.307217},\n          'right': {'splitIndex': 0,\n           'splitValue': 0.66387,\n           'left': {'splitIndex': 0,\n            'splitValue': 0.673195,\n            'left': 0.907727,\n            'right': 0.915077},\n           'right': 1.187129}}}},\n       'right': {'splitIndex': 0,\n        'splitValue': 0.656218,\n        'left': {'splitIndex': 0,\n         'splitValue': 0.661923,\n         'left': 0.701634,\n         'right': 0.76704},\n        'right': {'splitIndex': 0,\n         'splitValue': 0.652121,\n         'left': 0.958506,\n         'right': 1.004346}}},\n      'right': {'splitIndex': 0,\n       'splitValue': 0.645762,\n       'left': {'splitIndex': 0,\n        'splitValue': 0.648675,\n        'left': 1.315384,\n        'right': 1.287407},\n       'right': {'splitIndex': 0,\n        'splitValue': 0.643665,\n        'left': 1.026886,\n        'right': 1.024241}}},\n     'right': {'splitIndex': 0,\n      'splitValue': 0.626011,\n      'left': 0.782552,\n      'right': 0.840544}},\n    'right': 1.244731},\n   'right': {'splitIndex': 0,\n    'splitValue': 0.622398,\n    'left': 0.623696,\n    'right': 0.76633}},\n  'right': {'splitIndex': 0,\n   'splitValue': 0.61127,\n   'left': {'splitIndex': 0,\n    'splitValue': 0.613765,\n    'left': 1.334421,\n    'right': 1.621091},\n   'right': {'splitIndex': 0,\n    'splitValue': 0.517921,\n    'left': {'splitIndex': 0,\n     'splitValue': 0.541314,\n     'left': {'splitIndex': 0,\n      'splitValue': 0.559763,\n      'left': {'splitIndex': 0,\n       'splitValue': 0.590062,\n       'left': {'splitIndex': 0,\n        'splitValue': 0.595012,\n        'left': {'splitIndex': 0,\n         'splitValue': 0.597409,\n         'left': {'splitIndex': 0,\n          'splitValue': 0.604529,\n          'left': 0.982036,\n          'right': 1.212685},\n         'right': 0.97477},\n        'right': {'splitIndex': 0,\n         'splitValue': 0.59021,\n         'left': 1.213435,\n         'right': 1.336661}},\n       'right': {'splitIndex': 0,\n        'splitValue': 0.589575,\n        'left': 0.705531,\n        'right': {'splitIndex': 0,\n         'splitValue': 0.575805,\n         'left': {'splitIndex': 0,\n          'splitValue': 0.576946,\n          'left': {'splitIndex': 0,\n           'splitValue': 0.578252,\n           'left': 1.185812,\n           'right': 0.921885},\n          'right': 1.234129},\n         'right': {'splitIndex': 0,\n          'splitValue': 0.574573,\n          'left': 0.89909,\n          'right': {'splitIndex': 0,\n           'splitValue': 0.561362,\n           'left': {'splitIndex': 0,\n            'splitValue': 0.567704,\n            'left': 1.06613,\n            'right': 0.969058},\n           'right': 1.070529}}}}},\n      'right': {'splitIndex': 0,\n       'splitValue': 0.552381,\n       'left': {'splitIndex': 0,\n        'splitValue': 0.55299,\n        'left': {'splitIndex': 0,\n         'splitValue': 0.55352,\n         'left': 1.253151,\n         'right': 1.391273},\n        'right': 1.036158},\n       'right': 1.36963}},\n     'right': {'splitIndex': 0,\n      'splitValue': 0.520207,\n      'left': {'splitIndex': 0,\n       'splitValue': 0.536689,\n       'left': {'splitIndex': 0,\n        'splitValue': 0.539558,\n        'left': 0.893748,\n        'right': 1.053846},\n       'right': {'splitIndex': 0,\n        'splitValue': 0.529491,\n        'left': {'splitIndex': 0,\n         'splitValue': 0.530897,\n         'left': 0.867284,\n         'right': 0.893462},\n        'right': {'splitIndex': 0,\n         'splitValue': 0.527505,\n         'left': 1.022206,\n         'right': 0.87956}}},\n      'right': {'splitIndex': 0,\n       'splitValue': 0.520044,\n       'left': 1.209557,\n       'right': {'splitIndex': 0,\n        'splitValue': 0.518735,\n        'left': 0.961983,\n        'right': 1.037179}}}},\n    'right': {'splitIndex': 0,\n     'splitValue': 0.514563,\n     'left': 1.493586,\n     'right': {'splitIndex': 0,\n      'splitValue': 0.50794,\n      'left': 1.156648,\n      'right': 1.107265}}}}},\n 'right': {'splitIndex': 0,\n  'splitValue': 0.343479,\n  'left': {'splitIndex': 0,\n   'splitValue': 0.406649,\n   'left': {'splitIndex': 0,\n    'splitValue': 0.41023,\n    'left': {'splitIndex': 0,\n     'splitValue': 0.458121,\n     'left': {'splitIndex': 0,\n      'splitValue': 0.475976,\n      'left': -0.097791,\n      'right': {'splitIndex': 0,\n       'splitValue': 0.465625,\n       'left': -0.163707,\n       'right': -0.15294}},\n     'right': {'splitIndex': 0,\n      'splitValue': 0.429664,\n      'left': {'splitIndex': 0,\n       'splitValue': 0.44928,\n       'left': -0.061456,\n       'right': {'splitIndex': 0,\n        'splitValue': 0.448656,\n        'left': 0.069098,\n        'right': {'splitIndex': 0,\n         'splitValue': 0.438367,\n         'left': 0.026974,\n         'right': 0.034014}}},\n      'right': -0.188659}},\n    'right': 0.331722},\n   'right': {'splitIndex': 0,\n    'splitValue': 0.355688,\n    'left': {'splitIndex': 0,\n     'splitValue': 0.362314,\n     'left': {'splitIndex': 0,\n      'splitValue': 0.377597,\n      'left': {'splitIndex': 0,\n       'splitValue': 0.401152,\n       'left': -0.366317,\n       'right': {'splitIndex': 0,\n        'splitValue': 0.378595,\n        'left': -0.12164,\n        'right': -0.296094}},\n      'right': {'splitIndex': 0,\n       'splitValue': 0.377201,\n       'left': 0.088505,\n       'right': -0.24355}},\n     'right': {'splitIndex': 0,\n      'splitValue': 0.360323,\n      'left': -0.556464,\n      'right': -0.20483}},\n    'right': {'splitIndex': 0,\n     'splitValue': 0.343554,\n     'left': {'splitIndex': 0,\n      'splitValue': 0.347837,\n      'left': {'splitIndex': 0,\n       'splitValue': 0.348013,\n       'left': -0.119399,\n       'right': 0.048939},\n      'right': {'splitIndex': 0,\n       'splitValue': 0.344102,\n       'left': {'splitIndex': 0,\n        'splitValue': 0.346986,\n        'left': -0.153405,\n        'right': -0.150389},\n       'right': -0.061539}},\n     'right': -0.3717}}},\n  'right': {'splitIndex': 0,\n   'splitValue': 0.325412,\n   'left': {'splitIndex': 0,\n    'splitValue': 0.3371,\n    'left': {'splitIndex': 0,\n     'splitValue': 0.339563,\n     'left': 0.175264,\n     'right': 0.206783},\n    'right': {'splitIndex': 0,\n     'splitValue': 0.332982,\n     'left': 0.026332,\n     'right': 0.210084}},\n   'right': {'splitIndex': 0,\n    'splitValue': 0.048014,\n    'left': {'splitIndex': 0,\n     'splitValue': 0.081931,\n     'left': {'splitIndex': 0,\n      'splitValue': 0.188218,\n      'left': {'splitIndex': 0,\n       'splitValue': 0.23807,\n       'left': {'splitIndex': 0,\n        'splitValue': 0.242204,\n        'left': {'splitIndex': 0,\n         'splitValue': 0.323181,\n         'left': -0.219245,\n         'right': {'splitIndex': 0,\n          'splitValue': 0.314924,\n          'left': 0.180811,\n          'right': {'splitIndex': 0,\n           'splitValue': 0.27394,\n           'left': {'splitIndex': 0,\n            'splitValue': 0.278661,\n            'left': {'splitIndex': 0,\n             'splitValue': 0.280738,\n             'left': {'splitIndex': 0,\n              'splitValue': 0.302001,\n              'left': {'splitIndex': 0,\n               'splitValue': 0.306964,\n               'left': -0.001952,\n               'right': {'splitIndex': 0,\n                'splitValue': 0.30554,\n                'left': -0.177321,\n                'right': {'splitIndex': 0,\n                 'splitValue': 0.302217,\n                 'left': -0.115991,\n                 'right': -0.14865}}},\n              'right': {'splitIndex': 0,\n               'splitValue': 0.295511,\n               'left': 0.317135,\n               'right': 0.002882}},\n             'right': -0.22888},\n            'right': 0.253628},\n           'right': {'splitIndex': 0,\n            'splitValue': 0.268857,\n            'left': {'splitIndex': 0,\n             'splitValue': 0.273147,\n             'left': -0.085713,\n             'right': {'splitIndex': 0,\n              'splitValue': 0.269681,\n              'left': -0.455219,\n              'right': -0.165971}},\n            'right': {'splitIndex': 0,\n             'splitValue': 0.252649,\n             'left': 0.073447,\n             'right': {'splitIndex': 0,\n              'splitValue': 0.250744,\n              'left': -0.055613,\n              'right': {'splitIndex': 0,\n               'splitValue': 0.243909,\n               'left': 0.046297,\n               'right': -0.029467}}}}}}},\n        'right': 0.209359},\n       'right': {'splitIndex': 0,\n        'splitValue': 0.210334,\n        'left': {'splitIndex': 0,\n         'splitValue': 0.233115,\n         'left': -0.358459,\n         'right': -0.348147},\n        'right': {'splitIndex': 0,\n         'splitValue': 0.193641,\n         'left': {'splitIndex': 0,\n          'splitValue': 0.203693,\n          'left': -0.006899,\n          'right': {'splitIndex': 0,\n           'splitValue': 0.196005,\n           'left': {'splitIndex': 0,\n            'splitValue': 0.202054,\n            'left': -0.064036,\n            'right': -0.087744},\n           'right': -0.048847}},\n         'right': -0.327589}}},\n      'right': {'splitIndex': 0,\n       'splitValue': 0.1333,\n       'left': {'splitIndex': 0,\n        'splitValue': 0.146366,\n        'left': {'splitIndex': 0,\n         'splitValue': 0.148049,\n         'left': {'splitIndex': 0,\n          'splitValue': 0.180506,\n          'left': {'splitIndex': 0,\n           'splitValue': 0.18351,\n           'left': 0.113685,\n           'right': 0.184843},\n          'right': {'splitIndex': 0,\n           'splitValue': 0.152324,\n           'left': 0.103676,\n           'right': 0.132858}},\n         'right': 0.204298},\n        'right': {'splitIndex': 0,\n         'splitValue': 0.145809,\n         'left': 0.034283,\n         'right': 0.136979}},\n       'right': {'splitIndex': 0,\n        'splitValue': 0.130962,\n        'left': {'splitIndex': 0,\n         'splitValue': 0.132543,\n         'left': -0.223143,\n         'right': -0.329372},\n        'right': {'splitIndex': 0,\n         'splitValue': 0.118156,\n         'left': {'splitIndex': 0,\n          'splitValue': 0.129061,\n          'left': {'splitIndex': 0,\n           'splitValue': 0.130052,\n           'left': 0.184241,\n           'right': -0.026167},\n          'right': 0.305107},\n         'right': {'splitIndex': 0,\n          'splitValue': 0.096994,\n          'left': {'splitIndex': 0,\n           'splitValue': 0.098016,\n           'left': {'splitIndex': 0,\n            'splitValue': 0.101149,\n            'left': -0.077409,\n            'right': {'splitIndex': 0,\n             'splitValue': 0.099142,\n             'left': 0.068834,\n             'right': 0.02528}},\n           'right': -0.33276},\n          'right': {'splitIndex': 0,\n           'splitValue': 0.091358,\n           'left': 0.227167,\n           'right': {'splitIndex': 0,\n            'splitValue': 0.084248,\n            'left': 0.099935,\n            'right': -0.019547}}}}}}},\n     'right': {'splitIndex': 0,\n      'splitValue': 0.071769,\n      'left': {'splitIndex': 0,\n       'splitValue': 0.074795,\n       'left': -0.269756,\n       'right': {'splitIndex': 0,\n        'splitValue': 0.072243,\n        'left': -0.349692,\n        'right': -0.420983}},\n      'right': {'splitIndex': 0,\n       'splitValue': 0.065615,\n       'left': {'splitIndex': 0,\n        'splitValue': 0.066172,\n        'left': -0.110946,\n        'right': 0.052439},\n       'right': -0.30697}}},\n    'right': {'splitIndex': 0,\n     'splitValue': 0.014083,\n     'left': {'splitIndex': 0,\n      'splitValue': 0.036492,\n      'left': 0.064496,\n      'right': {'splitIndex': 0,\n       'splitValue': 0.036098,\n       'left': 0.408155,\n       'right': 0.155096}},\n     'right': {'splitIndex': 0,\n      'splitValue': 0.009849,\n      'left': -0.132525,\n      'right': {'splitIndex': 0,\n       'splitValue': 0.008307,\n       'left': 0.056594,\n       'right': {'splitIndex': 0,\n        'splitValue': 0.000234,\n        'left': {'splitIndex': 0,\n         'splitValue': 0.007044,\n         'left': 0.069976,\n         'right': 0.09415},\n        'right': 0.060903}}}}}}}}"
     },
     "execution_count": 41,
     "metadata": {},
     "output_type": "execute_result"
    }
   ],
   "source": [
    "create_tree(my_dataset, ops=(0, 1))"
   ],
   "metadata": {
    "collapsed": false
   }
  },
  {
   "cell_type": "code",
   "execution_count": 42,
   "outputs": [
    {
     "data": {
      "text/plain": "{'splitIndex': 0,\n 'splitValue': 0.48813,\n 'left': 1.0180967672413792,\n 'right': -0.04465028571428572}"
     },
     "execution_count": 42,
     "metadata": {},
     "output_type": "execute_result"
    }
   ],
   "source": [
    "create_tree(my_dataset, ops=(1, 4))\n"
   ],
   "metadata": {
    "collapsed": false
   }
  },
  {
   "cell_type": "markdown",
   "source": [
    "ops参数的设置会影响到节点数量"
   ],
   "metadata": {
    "collapsed": false
   }
  },
  {
   "cell_type": "markdown",
   "source": [
    "## 后剪枝(postpruning)"
   ],
   "metadata": {
    "collapsed": false
   }
  },
  {
   "cell_type": "code",
   "execution_count": 43,
   "outputs": [],
   "source": [
    "def is_tree(obj):\n",
    "    return type(obj).__name__ == 'dict'"
   ],
   "metadata": {
    "collapsed": false
   }
  },
  {
   "cell_type": "code",
   "execution_count": 44,
   "outputs": [],
   "source": [
    "def get_mean(tree):\n",
    "    if is_tree(tree['left']):\n",
    "        tree['left'] = get_mean(tree['left'])\n",
    "    if is_tree(tree['right']):\n",
    "        tree['right'] = get_mean(tree['right'])\n",
    "    return (tree['left'] + tree['right']) / 2.0"
   ],
   "metadata": {
    "collapsed": false
   }
  },
  {
   "cell_type": "code",
   "execution_count": 45,
   "outputs": [],
   "source": [
    "def prune(tree, test_data):\n",
    "    if test_data.shape[0] == 0:\n",
    "        return get_mean(tree)\n",
    "    if is_tree(tree['left']) or is_tree(tree['right']):\n",
    "        left_set, right_set = bin_split_dataset(test_data, tree['splitIndex'], tree['splitValue'])\n",
    "    if is_tree(tree['left']):\n",
    "        tree['left'] = prune(tree['left'], left_set)\n",
    "    if is_tree(tree['right']):\n",
    "        tree['right'] = prune(tree['right'], right_set)\n",
    "    if not is_tree(tree['left']) and not is_tree(tree['right']):\n",
    "        left_set, right_set = bin_split_dataset(test_data, tree['splitIndex'], tree['splitValue'])\n",
    "        error_no_merge = np.sum(np.power(left_set[:, -1] - tree['left'], 2)) + np.sum(\n",
    "            np.power(right_set[:, -1] - tree['right'], 2))\n",
    "        tree_mean = (tree['left'] + tree['right']) / 2\n",
    "        error_merge = np.sum(np.power(test_data[:, -1] - tree_mean, 2))\n",
    "        if error_merge < error_no_merge:\n",
    "            print(\"merging\")\n",
    "            return tree_mean\n",
    "        else:\n",
    "            return tree\n",
    "    else:\n",
    "        return tree\n"
   ],
   "metadata": {
    "collapsed": false
   }
  },
  {
   "cell_type": "markdown",
   "source": [
    "# 模型树"
   ],
   "metadata": {
    "collapsed": false
   }
  },
  {
   "cell_type": "code",
   "execution_count": 46,
   "outputs": [],
   "source": [
    "def linear_solve(dataset):\n",
    "    m, n = np.shape(dataset)\n",
    "    X, y, = np.mat(np.ones((m, n))), np.mat(np.ones((m, 1)))\n",
    "    X[:, 1:n] = dataset[:, 0:n - 1]\n",
    "    y = dataset[:, -1]\n",
    "    XTX = X.T * X\n",
    "    if np.linalg.det(XTX) == 0.0:\n",
    "        print(X)\n",
    "        print(dataset)\n",
    "        raise NameError(\"The matrix is singular\")\n",
    "    ws = (XTX.I) * (X.T * y)\n",
    "    return ws, X, y"
   ],
   "metadata": {
    "collapsed": false
   }
  },
  {
   "cell_type": "code",
   "execution_count": 47,
   "outputs": [],
   "source": [
    "def model_leaf(dataset):\n",
    "    ws, X, y = linear_solve(dataset)\n",
    "    return ws"
   ],
   "metadata": {
    "collapsed": false
   }
  },
  {
   "cell_type": "code",
   "execution_count": 48,
   "outputs": [],
   "source": [
    "def model_error(dataset):\n",
    "    ws, X, y = linear_solve(dataset)\n",
    "    y_predict = X * ws\n",
    "    return np.sum(np.power(y_predict - y, 2))"
   ],
   "metadata": {
    "collapsed": false
   }
  },
  {
   "cell_type": "code",
   "execution_count": 49,
   "outputs": [],
   "source": [
    "my_dataset = np.mat(load_dataset('exp2.txt'))"
   ],
   "metadata": {
    "collapsed": false
   }
  },
  {
   "cell_type": "code",
   "execution_count": 50,
   "outputs": [],
   "source": [
    "my_tree = create_tree(my_dataset, model_leaf,model_error)"
   ],
   "metadata": {
    "collapsed": false
   }
  },
  {
   "cell_type": "code",
   "execution_count": 51,
   "outputs": [
    {
     "data": {
      "text/plain": "{'splitIndex': 0,\n 'splitValue': 0.285477,\n 'left': matrix([[1.69855694e-03],\n         [1.19647739e+01]]),\n 'right': matrix([[3.46877936],\n         [1.18521743]])}"
     },
     "execution_count": 51,
     "metadata": {},
     "output_type": "execute_result"
    }
   ],
   "source": [
    "my_tree"
   ],
   "metadata": {
    "collapsed": false
   }
  },
  {
   "cell_type": "markdown",
   "source": [
    "# 模型树与标准回归的比较"
   ],
   "metadata": {
    "collapsed": false
   }
  },
  {
   "cell_type": "code",
   "execution_count": 52,
   "outputs": [],
   "source": [
    "def regression_tree_eval(model,input_matrix):\n",
    "    return float(model)"
   ],
   "metadata": {
    "collapsed": false
   }
  },
  {
   "cell_type": "code",
   "execution_count": 54,
   "outputs": [],
   "source": [
    "def model_tree_eval(model,input_matrix):\n",
    "    n = input_matrix.shape[1]\n",
    "    X = np.ones((1,n+1))\n",
    "    X[:,1:n+1] = input_matrix\n",
    "    return float(X*model)\n"
   ],
   "metadata": {
    "collapsed": false
   }
  },
  {
   "cell_type": "code",
   "execution_count": 75,
   "outputs": [],
   "source": [
    "def tree_forecast(tree,input_matrix,model_evaluation=regression_tree_eval):\n",
    "    if not is_tree(tree):\n",
    "        return model_evaluation(tree,input_matrix)\n",
    "    if input_matrix[tree['splitIndex']] > tree['splitValue']:\n",
    "        if is_tree(tree['left']):\n",
    "            return tree_forecast(tree['left'],input_matrix,model_evaluation)\n",
    "        else:\n",
    "            return model_evaluation(tree['left'],input_matrix)\n",
    "    else:\n",
    "        if is_tree(tree['right']):\n",
    "            return tree_forecast(tree['right'],input_matrix,model_evaluation)\n",
    "        else:\n",
    "            return model_evaluation(tree['right'],input_matrix)"
   ],
   "metadata": {
    "collapsed": false
   }
  },
  {
   "cell_type": "code",
   "execution_count": 76,
   "outputs": [],
   "source": [
    "def create_forecast(tree,input_matrix,model_evaluation=regression_tree_eval):\n",
    "    m = len(input_matrix)\n",
    "    y_predicted = np.mat(np.zeros((m,1)))\n",
    "    for i in range(m):\n",
    "        y_predicted[i,0] = tree_forecast(tree,np.mat(input_matrix[i]),model_evaluation)\n",
    "    return y_predicted\n"
   ],
   "metadata": {
    "collapsed": false
   }
  },
  {
   "cell_type": "code",
   "execution_count": 77,
   "outputs": [],
   "source": [
    "train_mat = np.mat(load_dataset('./bikeSpeedVsIq_train.txt'))\n",
    "test_mat = np.mat(load_dataset('./bikeSpeedVsIq_test.txt'))"
   ],
   "metadata": {
    "collapsed": false
   }
  },
  {
   "cell_type": "code",
   "execution_count": 78,
   "outputs": [
    {
     "data": {
      "text/plain": "0.9640852318222141"
     },
     "execution_count": 78,
     "metadata": {},
     "output_type": "execute_result"
    }
   ],
   "source": [
    "my_tree =create_tree(train_mat,ops=(1,20))\n",
    "y_predict = create_forecast(my_tree,test_mat[:,0])\n",
    "np.corrcoef(y_predict,test_mat[:,1],rowvar=0)[0,1]"
   ],
   "metadata": {
    "collapsed": false
   }
  },
  {
   "cell_type": "code",
   "execution_count": 79,
   "outputs": [
    {
     "data": {
      "text/plain": "0.9760412191380623"
     },
     "execution_count": 79,
     "metadata": {},
     "output_type": "execute_result"
    }
   ],
   "source": [
    "my_tree = create_tree(train_mat,model_leaf,model_error,ops=(1,20))\n",
    "y_predict = create_forecast(my_tree,test_mat[:,0],model_tree_eval)\n",
    "np.corrcoef(y_predict,test_mat[:,1],rowvar=0)[0,1]"
   ],
   "metadata": {
    "collapsed": false
   }
  },
  {
   "cell_type": "markdown",
   "source": [
    "模型树的效果要好于回归树"
   ],
   "metadata": {
    "collapsed": false
   }
  },
  {
   "cell_type": "code",
   "execution_count": null,
   "outputs": [],
   "source": [],
   "metadata": {
    "collapsed": false
   }
  }
 ],
 "metadata": {
  "kernelspec": {
   "display_name": "Python 3",
   "language": "python",
   "name": "python3"
  },
  "language_info": {
   "codemirror_mode": {
    "name": "ipython",
    "version": 2
   },
   "file_extension": ".py",
   "mimetype": "text/x-python",
   "name": "python",
   "nbconvert_exporter": "python",
   "pygments_lexer": "ipython2",
   "version": "2.7.6"
  }
 },
 "nbformat": 4,
 "nbformat_minor": 0
}
